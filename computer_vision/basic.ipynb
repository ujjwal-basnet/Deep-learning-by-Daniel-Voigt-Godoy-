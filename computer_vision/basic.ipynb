{
 "cells": [
  {
   "cell_type": "code",
   "execution_count": 1,
   "metadata": {},
   "outputs": [
    {
     "name": "stderr",
     "output_type": "stream",
     "text": [
      "d:\\software\\miniconda\\envs\\mlenv\\Lib\\site-packages\\torchvision\\io\\image.py:13: UserWarning: Failed to load image Python extension: '[WinError 127] The specified procedure could not be found'If you don't plan on using image functionality from `torchvision.io`, you can ignore this warning. Otherwise, there might be something wrong with your environment. Did you have `libjpeg` or `libpng` installed before building `torchvision` from source?\n",
      "  warn(\n"
     ]
    }
   ],
   "source": [
    "import numpy as np\n",
    "import pandas as pd \n",
    "import seaborn as sns \n",
    "from tqdm.notebook import tqdm \n",
    "import matplotlib.pyplot as plt \n",
    "\n",
    "import torch \n",
    "import torchvision\n",
    "import torch.nn as nn\n",
    "import torch.optim as optim \n",
    "import torch.nn.functional as F \n",
    "from torchvision import transforms , utils , datasets \n",
    "from torch.utils.data import Dataset , DataLoader , random_split , SubsetRandomSampler , WeightedRandomSampler"
   ]
  },
  {
   "cell_type": "code",
   "execution_count": 2,
   "metadata": {},
   "outputs": [
    {
     "data": {
      "text/plain": [
       "<torch._C.Generator at 0x2d89f87e670>"
      ]
     },
     "execution_count": 2,
     "metadata": {},
     "output_type": "execute_result"
    }
   ],
   "source": [
    "#set the random seed \n",
    "np.random.seed(9)\n",
    "torch.manual_seed(0)\n"
   ]
  },
  {
   "cell_type": "code",
   "execution_count": 3,
   "metadata": {},
   "outputs": [],
   "source": [
    "%matplotlib inline \n",
    "sns.set_style('darkgrid')"
   ]
  },
  {
   "cell_type": "code",
   "execution_count": 4,
   "metadata": {},
   "outputs": [],
   "source": [
    "root_dir = 'data/archive/data/natural_images'\n"
   ]
  },
  {
   "cell_type": "code",
   "execution_count": 5,
   "metadata": {},
   "outputs": [],
   "source": [
    "#define transforms \n",
    "image_transforms = {\n",
    "    'train' :transforms.Compose([transforms.Resize((224 , 224)) , \n",
    "        transforms.ToTensor()\n",
    "    ])\n",
    "\n",
    "}"
   ]
  },
  {
   "cell_type": "code",
   "execution_count": 6,
   "metadata": {},
   "outputs": [
    {
     "data": {
      "text/plain": [
       "Dataset ImageFolder\n",
       "    Number of datapoints: 6899\n",
       "    Root location: data/archive/data/natural_images\n",
       "    StandardTransform\n",
       "Transform: Compose(\n",
       "               Resize(size=(224, 224), interpolation=bilinear, max_size=None, antialias=warn)\n",
       "               ToTensor()\n",
       "           )"
      ]
     },
     "execution_count": 6,
     "metadata": {},
     "output_type": "execute_result"
    }
   ],
   "source": [
    "#initilized dataset\n",
    "natural_img_dataset = datasets.ImageFolder(\n",
    "    root= root_dir , \n",
    "    transform = image_transforms['train']\n",
    "    )\n",
    "natural_img_dataset"
   ]
  },
  {
   "cell_type": "code",
   "execution_count": 7,
   "metadata": {},
   "outputs": [
    {
     "data": {
      "text/plain": [
       "{'airplane': 0,\n",
       " 'car': 1,\n",
       " 'cat': 2,\n",
       " 'dog': 3,\n",
       " 'flower': 4,\n",
       " 'fruit': 5,\n",
       " 'motorbike': 6,\n",
       " 'person': 7}"
      ]
     },
     "execution_count": 7,
     "metadata": {},
     "output_type": "execute_result"
    }
   ],
   "source": [
    "natural_img_dataset.class_to_idx"
   ]
  },
  {
   "cell_type": "code",
   "execution_count": 8,
   "metadata": {},
   "outputs": [
    {
     "data": {
      "text/plain": [
       "{0: 'airplane',\n",
       " 1: 'car',\n",
       " 2: 'cat',\n",
       " 3: 'dog',\n",
       " 4: 'flower',\n",
       " 5: 'fruit',\n",
       " 6: 'motorbike',\n",
       " 7: 'person'}"
      ]
     },
     "execution_count": 8,
     "metadata": {},
     "output_type": "execute_result"
    }
   ],
   "source": [
    "idx2class = {v:k for k , v in natural_img_dataset.class_to_idx.items()}\n",
    "idx2class"
   ]
  },
  {
   "cell_type": "code",
   "execution_count": null,
   "metadata": {},
   "outputs": [],
   "source": []
  },
  {
   "cell_type": "code",
   "execution_count": 10,
   "metadata": {},
   "outputs": [],
   "source": [
    "a = {1 :  '3'}"
   ]
  },
  {
   "cell_type": "code",
   "execution_count": 11,
   "metadata": {},
   "outputs": [
    {
     "data": {
      "text/plain": [
       "'airplane'"
      ]
     },
     "execution_count": 11,
     "metadata": {},
     "output_type": "execute_result"
    }
   ],
   "source": [
    "idx2class[0]"
   ]
  },
  {
   "cell_type": "code",
   "execution_count": 12,
   "metadata": {},
   "outputs": [
    {
     "data": {
      "text/plain": [
       "dict_items([('airplane', 0), ('car', 1), ('cat', 2), ('dog', 3), ('flower', 4), ('fruit', 5), ('motorbike', 6), ('person', 7)])"
      ]
     },
     "execution_count": 12,
     "metadata": {},
     "output_type": "execute_result"
    }
   ],
   "source": [
    "natural_img_dataset.class_to_idx.items()"
   ]
  },
  {
   "cell_type": "code",
   "execution_count": 13,
   "metadata": {},
   "outputs": [],
   "source": [
    "count = 0\n",
    "count_dict = {k:0 for k , v in natural_img_dataset.class_to_idx.items()} \n"
   ]
  },
  {
   "cell_type": "code",
   "execution_count": 14,
   "metadata": {},
   "outputs": [
    {
     "data": {
      "text/plain": [
       "'airplane'"
      ]
     },
     "execution_count": 14,
     "metadata": {},
     "output_type": "execute_result"
    }
   ],
   "source": [
    "idx2class[0]"
   ]
  },
  {
   "cell_type": "code",
   "execution_count": 15,
   "metadata": {},
   "outputs": [
    {
     "data": {
      "text/plain": [
       "{'airplane': 0,\n",
       " 'car': 0,\n",
       " 'cat': 0,\n",
       " 'dog': 0,\n",
       " 'flower': 0,\n",
       " 'fruit': 0,\n",
       " 'motorbike': 0,\n",
       " 'person': 0}"
      ]
     },
     "execution_count": 15,
     "metadata": {},
     "output_type": "execute_result"
    }
   ],
   "source": [
    "count_dict"
   ]
  },
  {
   "cell_type": "code",
   "execution_count": 16,
   "metadata": {},
   "outputs": [
    {
     "data": {
      "text/plain": [
       "tensor([[[1.0000, 0.9922, 0.9922,  ..., 0.8118, 0.8118, 0.8078],\n",
       "         [1.0000, 0.9922, 0.9922,  ..., 0.8118, 0.8118, 0.8078],\n",
       "         [1.0000, 0.9922, 0.9922,  ..., 0.8118, 0.8118, 0.8078],\n",
       "         ...,\n",
       "         [0.9961, 0.9922, 0.9961,  ..., 0.7765, 0.7765, 0.7725],\n",
       "         [1.0000, 0.9961, 1.0000,  ..., 0.7804, 0.7804, 0.7765],\n",
       "         [1.0000, 0.9961, 1.0000,  ..., 0.7804, 0.7804, 0.7765]],\n",
       "\n",
       "        [[0.9804, 0.9804, 0.9765,  ..., 0.7608, 0.7608, 0.7569],\n",
       "         [0.9804, 0.9804, 0.9765,  ..., 0.7608, 0.7608, 0.7569],\n",
       "         [0.9804, 0.9804, 0.9765,  ..., 0.7608, 0.7608, 0.7569],\n",
       "         ...,\n",
       "         [0.9765, 0.9725, 0.9765,  ..., 0.7412, 0.7412, 0.7373],\n",
       "         [0.9725, 0.9686, 0.9765,  ..., 0.7451, 0.7451, 0.7412],\n",
       "         [0.9725, 0.9686, 0.9765,  ..., 0.7451, 0.7451, 0.7412]],\n",
       "\n",
       "        [[0.8863, 0.8824, 0.8941,  ..., 0.6353, 0.6353, 0.6314],\n",
       "         [0.8863, 0.8824, 0.8941,  ..., 0.6353, 0.6353, 0.6314],\n",
       "         [0.8863, 0.8824, 0.8941,  ..., 0.6353, 0.6353, 0.6314],\n",
       "         ...,\n",
       "         [0.9098, 0.8980, 0.9020,  ..., 0.6275, 0.6275, 0.6235],\n",
       "         [0.9059, 0.8980, 0.9059,  ..., 0.6235, 0.6235, 0.6196],\n",
       "         [0.9020, 0.8980, 0.9059,  ..., 0.6235, 0.6235, 0.6196]]])"
      ]
     },
     "execution_count": 16,
     "metadata": {},
     "output_type": "execute_result"
    }
   ],
   "source": [
    "natural_img_dataset[1][0]"
   ]
  },
  {
   "cell_type": "code",
   "execution_count": 17,
   "metadata": {},
   "outputs": [
    {
     "data": {
      "text/plain": [
       "{'airplane': 0,\n",
       " 'car': 0,\n",
       " 'cat': 0,\n",
       " 'dog': 0,\n",
       " 'flower': 0,\n",
       " 'fruit': 0,\n",
       " 'motorbike': 0,\n",
       " 'person': 0}"
      ]
     },
     "execution_count": 17,
     "metadata": {},
     "output_type": "execute_result"
    }
   ],
   "source": [
    "count_dict"
   ]
  },
  {
   "cell_type": "code",
   "execution_count": 18,
   "metadata": {},
   "outputs": [
    {
     "data": {
      "text/plain": [
       "0"
      ]
     },
     "execution_count": 18,
     "metadata": {},
     "output_type": "execute_result"
    }
   ],
   "source": [
    "count_dict['airplane']"
   ]
  },
  {
   "cell_type": "code",
   "execution_count": 19,
   "metadata": {},
   "outputs": [
    {
     "data": {
      "text/plain": [
       "0"
      ]
     },
     "execution_count": 19,
     "metadata": {},
     "output_type": "execute_result"
    }
   ],
   "source": [
    "natural_img_dataset[1][1]"
   ]
  },
  {
   "cell_type": "code",
   "execution_count": 20,
   "metadata": {},
   "outputs": [],
   "source": [
    "for element in natural_img_dataset:\n",
    "    y_lbl = element[1]\n",
    "    y_lbl = idx2class[y_lbl]\n",
    "    "
   ]
  },
  {
   "cell_type": "code",
   "execution_count": 21,
   "metadata": {},
   "outputs": [],
   "source": [
    "\n",
    "a = natural_img_dataset[1]"
   ]
  },
  {
   "cell_type": "code",
   "execution_count": 22,
   "metadata": {},
   "outputs": [
    {
     "data": {
      "text/plain": [
       "0"
      ]
     },
     "execution_count": 22,
     "metadata": {},
     "output_type": "execute_result"
    }
   ],
   "source": [
    "a[1]"
   ]
  },
  {
   "cell_type": "code",
   "execution_count": 23,
   "metadata": {},
   "outputs": [
    {
     "data": {
      "text/plain": [
       "torch.Size([3, 224, 224])"
      ]
     },
     "execution_count": 23,
     "metadata": {},
     "output_type": "execute_result"
    }
   ],
   "source": [
    "a[0].shape"
   ]
  },
  {
   "cell_type": "code",
   "execution_count": 24,
   "metadata": {},
   "outputs": [
    {
     "data": {
      "text/plain": [
       "{0: 'airplane',\n",
       " 1: 'car',\n",
       " 2: 'cat',\n",
       " 3: 'dog',\n",
       " 4: 'flower',\n",
       " 5: 'fruit',\n",
       " 6: 'motorbike',\n",
       " 7: 'person'}"
      ]
     },
     "execution_count": 24,
     "metadata": {},
     "output_type": "execute_result"
    }
   ],
   "source": [
    "idx2class"
   ]
  }
 ],
 "metadata": {
  "kernelspec": {
   "display_name": "mlenv",
   "language": "python",
   "name": "python3"
  },
  "language_info": {
   "codemirror_mode": {
    "name": "ipython",
    "version": 3
   },
   "file_extension": ".py",
   "mimetype": "text/x-python",
   "name": "python",
   "nbconvert_exporter": "python",
   "pygments_lexer": "ipython3",
   "version": "3.11.9"
  }
 },
 "nbformat": 4,
 "nbformat_minor": 2
}
