{
 "cells": [
  {
   "cell_type": "code",
   "execution_count": 1,
   "metadata": {},
   "outputs": [],
   "source": [
    "import torch\n"
   ]
  },
  {
   "cell_type": "markdown",
   "metadata": {},
   "source": [
    "This is the\n",
    "multiclass version of nn.BCEWithLogitsLoss().\n",
    "|"
   ]
  },
  {
   "cell_type": "markdown",
   "metadata": {},
   "source": [
    "\"What does it mean, in practical terms?\"\n",
    "It means you should NOT add a logsoftmax as the last layer of your model when\n",
    "using this loss function. This loss function combines both the logsoftmax layer and\n",
    "the negative log-likelihood loss into one\n"
   ]
  },
  {
   "cell_type": "markdown",
   "metadata": {},
   "source": [
    "Option 1: nn.LogSoftmax as the last layer, meaning your model is\n",
    "producing log probabilities, combined with the nn.NLLLoss()\n",
    "function.\n",
    "Option 2: No logsoftmax in the last layer, meaning your model is\n",
    "producing logits, combined with the nn.CrossEntropyLoss()\n",
    "function.\n",
    "Mixing nn.LogSoftmax and nn.CrossEntropyLoss() is just wrong"
   ]
  },
  {
   "cell_type": "code",
   "execution_count": 6,
   "metadata": {},
   "outputs": [],
   "source": [
    "import torch.nn as nn"
   ]
  },
  {
   "cell_type": "markdown",
   "metadata": {},
   "source": []
  },
  {
   "cell_type": "code",
   "execution_count": 7,
   "metadata": {},
   "outputs": [
    {
     "data": {
      "text/plain": [
       "tensor(1.6553)"
      ]
     },
     "execution_count": 7,
     "metadata": {},
     "output_type": "execute_result"
    }
   ],
   "source": []
  },
  {
   "cell_type": "markdown",
   "metadata": {},
   "source": [
    "##  this is wrong"
   ]
  },
  {
   "cell_type": "code",
   "execution_count": 9,
   "metadata": {},
   "outputs": [
    {
     "data": {
      "text/plain": [
       "tensor(0.2931)"
      ]
     },
     "execution_count": 9,
     "metadata": {},
     "output_type": "execute_result"
    }
   ],
   "source": [
    "## using nn.NLLos()\n",
    "torch.manual_seed(11)\n",
    "dummy_logits= torch.randn((5,3))\n",
    "dummy_lables= torch.tensor([0,0,1,2,1])\n",
    "\n",
    "\n",
    "loss_fn= nn.NLLLoss()\n",
    "loss_fn(dummy_logits, dummy_lables)\n"
   ]
  },
  {
   "cell_type": "code",
   "execution_count": 10,
   "metadata": {},
   "outputs": [],
   "source": [
    "import torch.nn.functional as F "
   ]
  },
  {
   "cell_type": "markdown",
   "metadata": {},
   "source": [
    "## this is right  , calculate the logsoftmax first"
   ]
  },
  {
   "cell_type": "code",
   "execution_count": 13,
   "metadata": {},
   "outputs": [
    {
     "data": {
      "text/plain": [
       "tensor(1.6553)"
      ]
     },
     "execution_count": 13,
     "metadata": {},
     "output_type": "execute_result"
    }
   ],
   "source": [
    "# that is why we need to calculate logsofmax before using nn.nLoss\n",
    "\n",
    "torch.manual_seed(11)\n",
    "dummy_logits= torch.randn((5,3))\n",
    "dummy_lables= torch.tensor([0,0,1,2,1])\n",
    "\n",
    "#calcualte logsoftmax\n",
    "dummy_log_probs= F.log_softmax(input= dummy_logits, dim= -1)\n",
    "\n",
    "#now calculate the nn>loss\n",
    "loss_fn= nn.NLLLoss()\n",
    "loss_fn(dummy_log_probs, dummy_lables)\n"
   ]
  },
  {
   "cell_type": "markdown",
   "metadata": {},
   "source": [
    "##  same but with using nn.CrossEntropyLoss() we dont need to calculate logsoftmax"
   ]
  },
  {
   "cell_type": "code",
   "execution_count": 14,
   "metadata": {},
   "outputs": [
    {
     "data": {
      "text/plain": [
       "tensor(1.6553)"
      ]
     },
     "execution_count": 14,
     "metadata": {},
     "output_type": "execute_result"
    }
   ],
   "source": [
    "#use quickly using dumym logits as inputs \n",
    "torch.manual_seed(11)\n",
    "dummy_logits = torch.randn((5,3))\n",
    "dumym_lables= torch.tensor([0 , 0 , 1, 2, 1])\n",
    "\n",
    "loss_fn= nn.CrossEntropyLoss()\n",
    "loss_fn(dummy_logits, dumym_lables)"
   ]
  },
  {
   "cell_type": "code",
   "execution_count": null,
   "metadata": {},
   "outputs": [],
   "source": []
  }
 ],
 "metadata": {
  "kernelspec": {
   "display_name": "mlenv",
   "language": "python",
   "name": "python3"
  },
  "language_info": {
   "codemirror_mode": {
    "name": "ipython",
    "version": 3
   },
   "file_extension": ".py",
   "mimetype": "text/x-python",
   "name": "python",
   "nbconvert_exporter": "python",
   "pygments_lexer": "ipython3",
   "version": "3.11.9"
  }
 },
 "nbformat": 4,
 "nbformat_minor": 2
}
