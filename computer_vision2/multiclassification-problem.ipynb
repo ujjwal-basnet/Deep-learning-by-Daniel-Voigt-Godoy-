{
 "cells": [
  {
   "cell_type": "code",
   "execution_count": 5,
   "metadata": {},
   "outputs": [],
   "source": [
    "from image_classification import generate_dataset\n",
    "import torch"
   ]
  },
  {
   "cell_type": "code",
   "execution_count": 6,
   "metadata": {},
   "outputs": [],
   "source": [
    "##data generation\n",
    "images , lables = generate_dataset(img_size= 10 , n_images= 1000, binary= False, seed= 17)"
   ]
  },
  {
   "cell_type": "code",
   "execution_count": 7,
   "metadata": {},
   "outputs": [],
   "source": [
    "import matplotlib.pyplot as plt \n"
   ]
  },
  {
   "cell_type": "code",
   "execution_count": 13,
   "metadata": {},
   "outputs": [
    {
     "ename": "ValueError",
     "evalue": "pic should not have > 4 channels. Got 10 channels.",
     "output_type": "error",
     "traceback": [
      "\u001b[1;31m---------------------------------------------------------------------------\u001b[0m",
      "\u001b[1;31mValueError\u001b[0m                                Traceback (most recent call last)",
      "Cell \u001b[1;32mIn[13], line 3\u001b[0m\n\u001b[0;32m      1\u001b[0m \u001b[38;5;28;01mimport\u001b[39;00m \u001b[38;5;21;01mtorchvision\u001b[39;00m\u001b[38;5;21;01m.\u001b[39;00m\u001b[38;5;21;01mtransforms\u001b[39;00m \u001b[38;5;28;01mas\u001b[39;00m \u001b[38;5;21;01mtransforms\u001b[39;00m \n\u001b[0;32m      2\u001b[0m toimage \u001b[38;5;241m=\u001b[39m transforms\u001b[38;5;241m.\u001b[39mToPILImage()\n\u001b[1;32m----> 3\u001b[0m \u001b[43mtoimage\u001b[49m\u001b[43m(\u001b[49m\u001b[43mimages\u001b[49m\u001b[43m[\u001b[49m\u001b[38;5;241;43m0\u001b[39;49m\u001b[43m]\u001b[49m\u001b[43m)\u001b[49m\n",
      "File \u001b[1;32md:\\software\\miniconda\\envs\\mlenv\\Lib\\site-packages\\torchvision\\transforms\\transforms.py:234\u001b[0m, in \u001b[0;36mToPILImage.__call__\u001b[1;34m(self, pic)\u001b[0m\n\u001b[0;32m    225\u001b[0m \u001b[38;5;28;01mdef\u001b[39;00m \u001b[38;5;21m__call__\u001b[39m(\u001b[38;5;28mself\u001b[39m, pic):\n\u001b[0;32m    226\u001b[0m \u001b[38;5;250m    \u001b[39m\u001b[38;5;124;03m\"\"\"\u001b[39;00m\n\u001b[0;32m    227\u001b[0m \u001b[38;5;124;03m    Args:\u001b[39;00m\n\u001b[0;32m    228\u001b[0m \u001b[38;5;124;03m        pic (Tensor or numpy.ndarray): Image to be converted to PIL Image.\u001b[39;00m\n\u001b[1;32m   (...)\u001b[0m\n\u001b[0;32m    232\u001b[0m \n\u001b[0;32m    233\u001b[0m \u001b[38;5;124;03m    \"\"\"\u001b[39;00m\n\u001b[1;32m--> 234\u001b[0m     \u001b[38;5;28;01mreturn\u001b[39;00m \u001b[43mF\u001b[49m\u001b[38;5;241;43m.\u001b[39;49m\u001b[43mto_pil_image\u001b[49m\u001b[43m(\u001b[49m\u001b[43mpic\u001b[49m\u001b[43m,\u001b[49m\u001b[43m \u001b[49m\u001b[38;5;28;43mself\u001b[39;49m\u001b[38;5;241;43m.\u001b[39;49m\u001b[43mmode\u001b[49m\u001b[43m)\u001b[49m\n",
      "File \u001b[1;32md:\\software\\miniconda\\envs\\mlenv\\Lib\\site-packages\\torchvision\\transforms\\functional.py:286\u001b[0m, in \u001b[0;36mto_pil_image\u001b[1;34m(pic, mode)\u001b[0m\n\u001b[0;32m    284\u001b[0m     \u001b[38;5;66;03m# check number of channels\u001b[39;00m\n\u001b[0;32m    285\u001b[0m     \u001b[38;5;28;01mif\u001b[39;00m pic\u001b[38;5;241m.\u001b[39mshape[\u001b[38;5;241m-\u001b[39m\u001b[38;5;241m1\u001b[39m] \u001b[38;5;241m>\u001b[39m \u001b[38;5;241m4\u001b[39m:\n\u001b[1;32m--> 286\u001b[0m         \u001b[38;5;28;01mraise\u001b[39;00m \u001b[38;5;167;01mValueError\u001b[39;00m(\u001b[38;5;124mf\u001b[39m\u001b[38;5;124m\"\u001b[39m\u001b[38;5;124mpic should not have > 4 channels. Got \u001b[39m\u001b[38;5;132;01m{\u001b[39;00mpic\u001b[38;5;241m.\u001b[39mshape[\u001b[38;5;241m-\u001b[39m\u001b[38;5;241m1\u001b[39m]\u001b[38;5;132;01m}\u001b[39;00m\u001b[38;5;124m channels.\u001b[39m\u001b[38;5;124m\"\u001b[39m)\n\u001b[0;32m    288\u001b[0m npimg \u001b[38;5;241m=\u001b[39m pic\n\u001b[0;32m    289\u001b[0m \u001b[38;5;28;01mif\u001b[39;00m \u001b[38;5;28misinstance\u001b[39m(pic, torch\u001b[38;5;241m.\u001b[39mTensor):\n",
      "\u001b[1;31mValueError\u001b[0m: pic should not have > 4 channels. Got 10 channels."
     ]
    }
   ],
   "source": [
    "import torchvision.transforms as transforms \n",
    "toimage = transforms.ToPILImage()\n",
    "toimage(images[0])\n"
   ]
  },
  {
   "cell_type": "code",
   "execution_count": 9,
   "metadata": {},
   "outputs": [
    {
     "data": {
      "text/plain": [
       "(1, 10, 10)"
      ]
     },
     "execution_count": 9,
     "metadata": {},
     "output_type": "execute_result"
    }
   ],
   "source": [
    "images[0].shape"
   ]
  },
  {
   "cell_type": "code",
   "execution_count": 23,
   "metadata": {},
   "outputs": [],
   "source": [
    "single_channel_image = images[0].squeeze(0)"
   ]
  },
  {
   "cell_type": "code",
   "execution_count": 24,
   "metadata": {},
   "outputs": [],
   "source": [
    "img = toimage(single_channel_image)"
   ]
  },
  {
   "cell_type": "code",
   "execution_count": 25,
   "metadata": {},
   "outputs": [],
   "source": [
    "img.show()"
   ]
  },
  {
   "cell_type": "code",
   "execution_count": null,
   "metadata": {},
   "outputs": [],
   "source": []
  },
  {
   "cell_type": "code",
   "execution_count": 26,
   "metadata": {},
   "outputs": [],
   "source": [
    "single_channel_image = images[0][0, :, :]  # Extract the first channel"
   ]
  },
  {
   "cell_type": "code",
   "execution_count": 30,
   "metadata": {},
   "outputs": [],
   "source": [
    "import matplotlib.pyplot as plt\n",
    "import matplotlib  \n",
    "def plot_images(image, lables, n_plot= 5):\n",
    "\n",
    "    n_plot = min(n_plot , len(images))\n",
    "\n",
    "    cols = 5 \n",
    "    rows = (n_plot + cols -1 ) // cols \n",
    "\n",
    "    #plt \n",
    "    fig, axes = plt.subplots(rows, cols, figsize= (15, rows*3))\n",
    "    axes = axes.flattern()     "
   ]
  },
  {
   "cell_type": "code",
   "execution_count": 31,
   "metadata": {},
   "outputs": [
    {
     "ename": "AttributeError",
     "evalue": "'numpy.ndarray' object has no attribute 'flattern'",
     "output_type": "error",
     "traceback": [
      "\u001b[1;31m---------------------------------------------------------------------------\u001b[0m",
      "\u001b[1;31mAttributeError\u001b[0m                            Traceback (most recent call last)",
      "Cell \u001b[1;32mIn[31], line 1\u001b[0m\n\u001b[1;32m----> 1\u001b[0m \u001b[43mplot_images\u001b[49m\u001b[43m(\u001b[49m\u001b[43mimage\u001b[49m\u001b[38;5;241;43m=\u001b[39;49m\u001b[43m \u001b[49m\u001b[43mimg\u001b[49m\u001b[43m \u001b[49m\u001b[43m,\u001b[49m\u001b[43m \u001b[49m\u001b[43mlables\u001b[49m\u001b[38;5;241;43m=\u001b[39;49m\u001b[38;5;124;43m'\u001b[39;49m\u001b[38;5;124;43mjpt\u001b[39;49m\u001b[38;5;124;43m'\u001b[39;49m\u001b[43m)\u001b[49m\n",
      "Cell \u001b[1;32mIn[30], line 12\u001b[0m, in \u001b[0;36mplot_images\u001b[1;34m(image, lables, n_plot)\u001b[0m\n\u001b[0;32m     10\u001b[0m \u001b[38;5;66;03m#plt \u001b[39;00m\n\u001b[0;32m     11\u001b[0m fig, axes \u001b[38;5;241m=\u001b[39m plt\u001b[38;5;241m.\u001b[39msubplots(rows, cols, figsize\u001b[38;5;241m=\u001b[39m (\u001b[38;5;241m15\u001b[39m, rows\u001b[38;5;241m*\u001b[39m\u001b[38;5;241m3\u001b[39m))\n\u001b[1;32m---> 12\u001b[0m axes \u001b[38;5;241m=\u001b[39m \u001b[43maxes\u001b[49m\u001b[38;5;241;43m.\u001b[39;49m\u001b[43mflattern\u001b[49m()\n",
      "\u001b[1;31mAttributeError\u001b[0m: 'numpy.ndarray' object has no attribute 'flattern'"
     ]
    },
    {
     "data": {
      "image/png": "[encoded data removed]",
      "text/plain": [
       "<Figure size 1500x300 with 5 Axes>"
      ]
     },
     "metadata": {},
     "output_type": "display_data"
    }
   ],
   "source": [
    "plot_images(image= img , lables='jpt')"
   ]
  },
  {
   "cell_type": "code",
   "execution_count": 75,
   "metadata": {},
   "outputs": [],
   "source": [
    "from torch.utils.data import DataLoader"
   ]
  },
  {
   "cell_type": "code",
   "execution_count": 33,
   "metadata": {},
   "outputs": [],
   "source": [
    "#index splitter \n",
    "from torch.utils.data import random_split\n",
    "def index_splitter(n, splits ,seed = 13):\n",
    "    idx = torch.arange(n)\n",
    "    splits_tensors=  torch.as_tensor(splits)\n",
    "    multiplier = n / splits_tensors.sum()\n",
    "    splits_tensors= (multiplier * splits_tensors).long() \n",
    "    diff = n - splits_tensors.sum()\n",
    "    splits_tensors[0] = splits[0] + diff\n",
    "\n",
    "    torch.manual_seed(seed)\n",
    "    return random_split(idx, splits_tensors)"
   ]
  },
  {
   "cell_type": "code",
   "execution_count": 35,
   "metadata": {},
   "outputs": [],
   "source": [
    "from torch.utils.data import Dataset"
   ]
  },
  {
   "cell_type": "code",
   "execution_count": 36,
   "metadata": {},
   "outputs": [],
   "source": [
    "## data preparation\n",
    "class TransformedDataset(Dataset):\n",
    "    def __init__(self, X, Y, transform= None):\n",
    "        self.x = X\n",
    "        self.y = Y\n",
    "        self.transform = transform\n",
    "\n",
    "    def __getitem__(self, index):\n",
    "        if self.transform:\n",
    "            X = self.x[index]\n",
    "        return X, self.y[index]\n",
    "    \n",
    "    def __len__(self):\n",
    "        return len(self.x)\n",
    "    "
   ]
  },
  {
   "cell_type": "code",
   "execution_count": null,
   "metadata": {},
   "outputs": [],
   "source": []
  },
  {
   "cell_type": "code",
   "execution_count": null,
   "metadata": {},
   "outputs": [],
   "source": []
  },
  {
   "cell_type": "code",
   "execution_count": null,
   "metadata": {},
   "outputs": [],
   "source": []
  },
  {
   "cell_type": "code",
   "execution_count": 39,
   "metadata": {},
   "outputs": [],
   "source": [
    "from torch.utils.data  import random_split\n",
    "\n"
   ]
  },
  {
   "cell_type": "code",
   "execution_count": 77,
   "metadata": {},
   "outputs": [],
   "source": [
    "from torch.utils.data import WeightedRandomSampler"
   ]
  },
  {
   "cell_type": "markdown",
   "metadata": {},
   "source": [
    "## Data Preparation"
   ]
  },
  {
   "cell_type": "code",
   "execution_count": 83,
   "metadata": {},
   "outputs": [],
   "source": [
    "from torchvision.transforms import Compose\n",
    "\n",
    "#convert into tensor\n",
    "x_tensor= torch.as_tensor(images/255).float() \n",
    "y_tensor=torch.as_tensor(lables).long()\n",
    "\n",
    "#index splitter\n",
    "train_idx, val_idx = index_splitter(len(x_tensor) , [80,20])\n",
    "def index_splitter(n, splits, seed=13):\n",
    "    idx = torch.arange(n)\n",
    "\n",
    "    splits_tensor = torch.as_tensor(splits)\n",
    "   \n",
    "    multiplier = n / splits_tensor.sum()    \n",
    "    splits_tensor = (multiplier * splits_tensor).long()\n",
    "    \n",
    "    diff = n - splits_tensor.sum()\n",
    "    splits_tensor[0] += diff\n",
    "\n",
    "    torch.manual_seed(seed)\n",
    "    return random_split(idx, splits_tensor)\n",
    "\n",
    "#use indicies to perform splits\n",
    "x_train_tensor= x_tensor[train_idx]\n",
    "y_train_tensor= y_tensor[train_idx]\n",
    "x_val_tensor= x_tensor[val_idx]\n",
    "y_val_tensor=y_tensor[val_idx]\n",
    "\n",
    "\n",
    "train_compose= Compose( [transforms.Normalize(mean = (.5), std=(.5))])\n",
    "val_compose = Compose([transforms.Normalize(mean= (.5), std=(.5))])\n",
    "\n",
    "#use custom dataset to apply composed transfors to each set\n",
    "train_dataset = TransformedDataset(X = x_train_tensor, Y =  y_train_tensor, transform= train_compose)\n",
    "val_dataset = TransformedDataset(X = y_val_tensor, Y = y_val_tensor, transform= val_compose)\n",
    "\n",
    "#builds a weighted random sampler to handel imblanced classes \n",
    "\n",
    "def make_balanced_sampler(y):\n",
    "    # Computes weights for compensating imbalanced classes\n",
    "    classes, counts = y.unique(return_counts=True)\n",
    "    weights = 1.0 / counts.float()\n",
    "    sample_weights = weights[y.squeeze().long()]\n",
    "    # Builds sampler with compute weights\n",
    "    generator = torch.Generator()\n",
    "    sampler = WeightedRandomSampler(\n",
    "        weights=sample_weights,\n",
    "        num_samples=len(sample_weights),\n",
    "        generator=generator,\n",
    "        replacement=True\n",
    "    )\n",
    "    return sampler\n",
    "\n",
    "sampler= make_balanced_sampler(y_train_tensor)\n",
    "\n",
    "#uses sampelr in the training set to get a balanced data loader \n",
    "train_loader= DataLoader(dataset= train_dataset,\n",
    "                         batch_size= 16,\n",
    "                         sampler= sampler)\n",
    "    \n",
    "val_loader = DataLoader(dataset= val_dataset, \n",
    "                        batch_size= 16)\n"
   ]
  },
  {
   "cell_type": "code",
   "execution_count": null,
   "metadata": {},
   "outputs": [],
   "source": []
  },
  {
   "cell_type": "code",
   "execution_count": null,
   "metadata": {},
   "outputs": [],
   "source": []
  },
  {
   "cell_type": "code",
   "execution_count": null,
   "metadata": {},
   "outputs": [],
   "source": []
  },
  {
   "cell_type": "code",
   "execution_count": null,
   "metadata": {},
   "outputs": [],
   "source": [
    "\n",
    "def make_balanced_sampler(y):\n",
    "    # Computes weights for compensating imbalanced classes\n",
    "    classes, counts = y.unique(return_counts=True)\n",
    "    weights = 1.0 / counts.float()\n",
    "    sample_weights = weights[y.squeeze().long()]\n",
    "    # Builds sampler with compute weights\n",
    "    generator = torch.Generator()\n",
    "    sampler = WeightedRandomSampler(\n",
    "        weights=sample_weights,\n",
    "        num_samples=len(sample_weights),\n",
    "        generator=generator,\n",
    "        replacement=True\n",
    "    )\n",
    "    return sampler"
   ]
  },
  {
   "cell_type": "code",
   "execution_count": null,
   "metadata": {},
   "outputs": [],
   "source": []
  },
  {
   "cell_type": "code",
   "execution_count": null,
   "metadata": {},
   "outputs": [],
   "source": []
  },
  {
   "cell_type": "code",
   "execution_count": 58,
   "metadata": {},
   "outputs": [
    {
     "data": {
      "text/plain": [
       "torch.Size([800])"
      ]
     },
     "execution_count": 58,
     "metadata": {},
     "output_type": "execute_result"
    }
   ],
   "source": [
    "y_train_tensor.shape"
   ]
  },
  {
   "cell_type": "code",
   "execution_count": 63,
   "metadata": {},
   "outputs": [
    {
     "data": {
      "text/plain": [
       "tensor([0.0034, 0.0038, 0.0034, 0.0038, 0.0034, 0.0041, 0.0041, 0.0034, 0.0038,\n",
       "        0.0038, 0.0034, 0.0034, 0.0041, 0.0034, 0.0034, 0.0041, 0.0034, 0.0038,\n",
       "        0.0041, 0.0034, 0.0041, 0.0034, 0.0034, 0.0041, 0.0038, 0.0041, 0.0038,\n",
       "        0.0034, 0.0034, 0.0034, 0.0041, 0.0038, 0.0034, 0.0034, 0.0038, 0.0041,\n",
       "        0.0038, 0.0038, 0.0034, 0.0038, 0.0034, 0.0041, 0.0038, 0.0034, 0.0034,\n",
       "        0.0034, 0.0041, 0.0038, 0.0041, 0.0038, 0.0038, 0.0034, 0.0034, 0.0034,\n",
       "        0.0038, 0.0034, 0.0041, 0.0041, 0.0038, 0.0038, 0.0041, 0.0041, 0.0038,\n",
       "        0.0034, 0.0041, 0.0034, 0.0034, 0.0034, 0.0041, 0.0041, 0.0034, 0.0038,\n",
       "        0.0038, 0.0034, 0.0034, 0.0038, 0.0034, 0.0038, 0.0038, 0.0038, 0.0038,\n",
       "        0.0041, 0.0034, 0.0034, 0.0038, 0.0034, 0.0041, 0.0038, 0.0038, 0.0034,\n",
       "        0.0034, 0.0038, 0.0041, 0.0038, 0.0034, 0.0034, 0.0041, 0.0041, 0.0041,\n",
       "        0.0038, 0.0041, 0.0034, 0.0034, 0.0034, 0.0038, 0.0034, 0.0041, 0.0041,\n",
       "        0.0038, 0.0038, 0.0041, 0.0034, 0.0038, 0.0038, 0.0038, 0.0041, 0.0041,\n",
       "        0.0034, 0.0041, 0.0034, 0.0038, 0.0038, 0.0041, 0.0034, 0.0034, 0.0038,\n",
       "        0.0034, 0.0034, 0.0034, 0.0034, 0.0034, 0.0038, 0.0041, 0.0041, 0.0038,\n",
       "        0.0034, 0.0038, 0.0041, 0.0041, 0.0034, 0.0041, 0.0041, 0.0034, 0.0041,\n",
       "        0.0034, 0.0034, 0.0034, 0.0038, 0.0041, 0.0038, 0.0034, 0.0038, 0.0034,\n",
       "        0.0041, 0.0041, 0.0038, 0.0038, 0.0038, 0.0038, 0.0038, 0.0038, 0.0034,\n",
       "        0.0038, 0.0038, 0.0038, 0.0034, 0.0041, 0.0038, 0.0038, 0.0034, 0.0038,\n",
       "        0.0034, 0.0041, 0.0041, 0.0041, 0.0041, 0.0041, 0.0038, 0.0038, 0.0034,\n",
       "        0.0034, 0.0038, 0.0038, 0.0038, 0.0034, 0.0034, 0.0038, 0.0041, 0.0034,\n",
       "        0.0034, 0.0041, 0.0041, 0.0041, 0.0041, 0.0041, 0.0034, 0.0041, 0.0041,\n",
       "        0.0041, 0.0041, 0.0034, 0.0041, 0.0038, 0.0034, 0.0041, 0.0041, 0.0038,\n",
       "        0.0034, 0.0034, 0.0038, 0.0038, 0.0034, 0.0038, 0.0038, 0.0034, 0.0034,\n",
       "        0.0038, 0.0034, 0.0034, 0.0041, 0.0041, 0.0034, 0.0038, 0.0041, 0.0034,\n",
       "        0.0034, 0.0038, 0.0034, 0.0038, 0.0041, 0.0038, 0.0041, 0.0038, 0.0041,\n",
       "        0.0041, 0.0034, 0.0041, 0.0038, 0.0038, 0.0041, 0.0041, 0.0034, 0.0038,\n",
       "        0.0034, 0.0041, 0.0034, 0.0034, 0.0041, 0.0038, 0.0041, 0.0041, 0.0034,\n",
       "        0.0034, 0.0041, 0.0038, 0.0038, 0.0041, 0.0034, 0.0038, 0.0038, 0.0041,\n",
       "        0.0038, 0.0038, 0.0038, 0.0041, 0.0034, 0.0034, 0.0034, 0.0041, 0.0034,\n",
       "        0.0038, 0.0041, 0.0038, 0.0034, 0.0041, 0.0041, 0.0034, 0.0038, 0.0034,\n",
       "        0.0034, 0.0034, 0.0038, 0.0041, 0.0041, 0.0038, 0.0038, 0.0041, 0.0041,\n",
       "        0.0034, 0.0041, 0.0041, 0.0041, 0.0038, 0.0034, 0.0038, 0.0041, 0.0038,\n",
       "        0.0034, 0.0038, 0.0041, 0.0034, 0.0034, 0.0041, 0.0041, 0.0038, 0.0034,\n",
       "        0.0034, 0.0034, 0.0038, 0.0038, 0.0038, 0.0041, 0.0034, 0.0041, 0.0038,\n",
       "        0.0038, 0.0041, 0.0034, 0.0034, 0.0034, 0.0034, 0.0034, 0.0038, 0.0034,\n",
       "        0.0041, 0.0034, 0.0034, 0.0034, 0.0038, 0.0038, 0.0041, 0.0041, 0.0041,\n",
       "        0.0038, 0.0038, 0.0038, 0.0034, 0.0038, 0.0041, 0.0041, 0.0034, 0.0034,\n",
       "        0.0034, 0.0041, 0.0041, 0.0038, 0.0041, 0.0041, 0.0041, 0.0041, 0.0034,\n",
       "        0.0034, 0.0034, 0.0038, 0.0038, 0.0041, 0.0041, 0.0038, 0.0041, 0.0041,\n",
       "        0.0034, 0.0041, 0.0034, 0.0034, 0.0034, 0.0041, 0.0038, 0.0041, 0.0034,\n",
       "        0.0034, 0.0041, 0.0038, 0.0038, 0.0038, 0.0038, 0.0041, 0.0041, 0.0038,\n",
       "        0.0041, 0.0041, 0.0038, 0.0038, 0.0038, 0.0034, 0.0041, 0.0041, 0.0038,\n",
       "        0.0041, 0.0038, 0.0041, 0.0034, 0.0034, 0.0041, 0.0041, 0.0041, 0.0038,\n",
       "        0.0034, 0.0041, 0.0041, 0.0041, 0.0034, 0.0038, 0.0034, 0.0034, 0.0038,\n",
       "        0.0038, 0.0038, 0.0038, 0.0041, 0.0041, 0.0038, 0.0034, 0.0034, 0.0038,\n",
       "        0.0034, 0.0034, 0.0038, 0.0041, 0.0034, 0.0034, 0.0041, 0.0034, 0.0034,\n",
       "        0.0038, 0.0034, 0.0041, 0.0034, 0.0038, 0.0034, 0.0041, 0.0034, 0.0034,\n",
       "        0.0038, 0.0034, 0.0034, 0.0038, 0.0034, 0.0041, 0.0034, 0.0038, 0.0041,\n",
       "        0.0034, 0.0034, 0.0041, 0.0034, 0.0041, 0.0034, 0.0034, 0.0038, 0.0041,\n",
       "        0.0038, 0.0038, 0.0034, 0.0034, 0.0038, 0.0041, 0.0041, 0.0034, 0.0034,\n",
       "        0.0041, 0.0041, 0.0034, 0.0041, 0.0038, 0.0034, 0.0041, 0.0041, 0.0034,\n",
       "        0.0034, 0.0034, 0.0034, 0.0038, 0.0034, 0.0034, 0.0041, 0.0034, 0.0041,\n",
       "        0.0038, 0.0038, 0.0034, 0.0041, 0.0038, 0.0038, 0.0041, 0.0034, 0.0034,\n",
       "        0.0034, 0.0041, 0.0041, 0.0038, 0.0034, 0.0038, 0.0041, 0.0038, 0.0041,\n",
       "        0.0034, 0.0038, 0.0038, 0.0034, 0.0041, 0.0038, 0.0034, 0.0038, 0.0038,\n",
       "        0.0041, 0.0041, 0.0034, 0.0041, 0.0038, 0.0038, 0.0038, 0.0041, 0.0038,\n",
       "        0.0034, 0.0038, 0.0041, 0.0034, 0.0038, 0.0034, 0.0034, 0.0038, 0.0038,\n",
       "        0.0034, 0.0041, 0.0041, 0.0034, 0.0034, 0.0038, 0.0041, 0.0034, 0.0041,\n",
       "        0.0038, 0.0038, 0.0038, 0.0038, 0.0038, 0.0034, 0.0034, 0.0038, 0.0038,\n",
       "        0.0038, 0.0038, 0.0038, 0.0041, 0.0034, 0.0041, 0.0041, 0.0038, 0.0038,\n",
       "        0.0034, 0.0034, 0.0041, 0.0034, 0.0038, 0.0038, 0.0041, 0.0041, 0.0034,\n",
       "        0.0034, 0.0041, 0.0034, 0.0034, 0.0041, 0.0034, 0.0034, 0.0034, 0.0034,\n",
       "        0.0038, 0.0038, 0.0034, 0.0041, 0.0034, 0.0038, 0.0041, 0.0041, 0.0041,\n",
       "        0.0038, 0.0038, 0.0041, 0.0034, 0.0038, 0.0041, 0.0034, 0.0038, 0.0038,\n",
       "        0.0034, 0.0038, 0.0034, 0.0034, 0.0041, 0.0038, 0.0038, 0.0034, 0.0038,\n",
       "        0.0038, 0.0041, 0.0034, 0.0041, 0.0034, 0.0041, 0.0034, 0.0034, 0.0041,\n",
       "        0.0041, 0.0041, 0.0038, 0.0038, 0.0038, 0.0038, 0.0041, 0.0038, 0.0034,\n",
       "        0.0034, 0.0041, 0.0038, 0.0038, 0.0038, 0.0038, 0.0038, 0.0041, 0.0034,\n",
       "        0.0041, 0.0034, 0.0041, 0.0034, 0.0034, 0.0038, 0.0038, 0.0038, 0.0038,\n",
       "        0.0034, 0.0038, 0.0038, 0.0038, 0.0038, 0.0041, 0.0034, 0.0038, 0.0038,\n",
       "        0.0034, 0.0038, 0.0038, 0.0034, 0.0038, 0.0038, 0.0034, 0.0038, 0.0041,\n",
       "        0.0034, 0.0034, 0.0034, 0.0034, 0.0041, 0.0038, 0.0038, 0.0041, 0.0034,\n",
       "        0.0034, 0.0034, 0.0038, 0.0041, 0.0034, 0.0038, 0.0034, 0.0041, 0.0041,\n",
       "        0.0041, 0.0034, 0.0034, 0.0041, 0.0038, 0.0038, 0.0038, 0.0034, 0.0034,\n",
       "        0.0034, 0.0041, 0.0034, 0.0038, 0.0038, 0.0038, 0.0034, 0.0038, 0.0034,\n",
       "        0.0041, 0.0034, 0.0041, 0.0034, 0.0038, 0.0034, 0.0041, 0.0041, 0.0034,\n",
       "        0.0041, 0.0038, 0.0034, 0.0041, 0.0034, 0.0034, 0.0041, 0.0041, 0.0034,\n",
       "        0.0034, 0.0038, 0.0041, 0.0041, 0.0038, 0.0038, 0.0034, 0.0041, 0.0034,\n",
       "        0.0041, 0.0034, 0.0041, 0.0038, 0.0038, 0.0034, 0.0041, 0.0041, 0.0038,\n",
       "        0.0038, 0.0034, 0.0041, 0.0038, 0.0041, 0.0038, 0.0041, 0.0034, 0.0034,\n",
       "        0.0041, 0.0038, 0.0034, 0.0034, 0.0041, 0.0038, 0.0034, 0.0034, 0.0041,\n",
       "        0.0041, 0.0034, 0.0034, 0.0041, 0.0034, 0.0038, 0.0034, 0.0034, 0.0034,\n",
       "        0.0034, 0.0034, 0.0034, 0.0041, 0.0038, 0.0038, 0.0041, 0.0041, 0.0034,\n",
       "        0.0041, 0.0038, 0.0038, 0.0038, 0.0038, 0.0041, 0.0041, 0.0041, 0.0041,\n",
       "        0.0038, 0.0034, 0.0041, 0.0034, 0.0038, 0.0034, 0.0038, 0.0038, 0.0041,\n",
       "        0.0038, 0.0038, 0.0038, 0.0034, 0.0041, 0.0041, 0.0041, 0.0034, 0.0034,\n",
       "        0.0034, 0.0041, 0.0041, 0.0038, 0.0038, 0.0038, 0.0038, 0.0034, 0.0034,\n",
       "        0.0041, 0.0034, 0.0038, 0.0034, 0.0038, 0.0041, 0.0034, 0.0041])"
      ]
     },
     "execution_count": 63,
     "metadata": {},
     "output_type": "execute_result"
    }
   ],
   "source": [
    "w[y_train_tensor.long()]"
   ]
  },
  {
   "cell_type": "code",
   "execution_count": 64,
   "metadata": {},
   "outputs": [
    {
     "data": {
      "text/plain": [
       "tensor([0.0038, 0.0034, 0.0041])"
      ]
     },
     "execution_count": 64,
     "metadata": {},
     "output_type": "execute_result"
    }
   ],
   "source": [
    "w"
   ]
  },
  {
   "cell_type": "code",
   "execution_count": 68,
   "metadata": {},
   "outputs": [
    {
     "data": {
      "text/plain": [
       "tensor(0.0038)"
      ]
     },
     "execution_count": 68,
     "metadata": {},
     "output_type": "execute_result"
    }
   ],
   "source": [
    "w[torch.tensor(0)]"
   ]
  },
  {
   "cell_type": "code",
   "execution_count": null,
   "metadata": {},
   "outputs": [],
   "source": []
  }
 ],
 "metadata": {
  "kernelspec": {
   "display_name": "mlenv",
   "language": "python",
   "name": "python3"
  },
  "language_info": {
   "codemirror_mode": {
    "name": "ipython",
    "version": 3
   },
   "file_extension": ".py",
   "mimetype": "text/x-python",
   "name": "python",
   "nbconvert_exporter": "python",
   "pygments_lexer": "ipython3",
   "version": "3.11.9"
  }
 },
 "nbformat": 4,
 "nbformat_minor": 2
}
