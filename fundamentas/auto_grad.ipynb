{
 "cells": [
  {
   "cell_type": "code",
   "execution_count": 13,
   "metadata": {},
   "outputs": [],
   "source": [
    "import torch "
   ]
  },
  {
   "cell_type": "code",
   "execution_count": 14,
   "metadata": {},
   "outputs": [
    {
     "name": "stdout",
     "output_type": "stream",
     "text": [
      "NVIDIA GeForce RTX 3050 Laptop GPU\n"
     ]
    }
   ],
   "source": [
    "#configuration \n",
    "device = torch.device('cuda' if torch.cuda.is_available() else 'cpu')\n",
    "for i in range(torch.cuda.device_count()):\n",
    "    print(torch.cuda.get_device_name())"
   ]
  },
  {
   "cell_type": "code",
   "execution_count": 15,
   "metadata": {},
   "outputs": [
    {
     "data": {
      "text/plain": [
       "(torch.Size([100]), torch.Size([100]))"
      ]
     },
     "execution_count": 15,
     "metadata": {},
     "output_type": "execute_result"
    }
   ],
   "source": [
    "torch.manual_seed(42)\n",
    "\n",
    "x_train = torch.linspace(0 , 10 , 100)\n",
    "y_train = 2*x_train + 1 + torch.randn(100)  # y = 2x + 1 with noise \n",
    "x_train.shape , y_train.shape"
   ]
  },
  {
   "cell_type": "code",
   "execution_count": 16,
   "metadata": {},
   "outputs": [],
   "source": [
    "#convert data to tensor and move them to the device \n",
    "x_train_tensor = x_train.view(-1 , 1 ).to(device)\n",
    "\n",
    "y_train_tensor = y_train.view(-1 , 1 ).to(device)"
   ]
  },
  {
   "cell_type": "code",
   "execution_count": 17,
   "metadata": {},
   "outputs": [
    {
     "name": "stdout",
     "output_type": "stream",
     "text": [
      "tensor([0.1940], device='cuda:0', requires_grad=True) tensor([0.1391], device='cuda:0', requires_grad=True)\n"
     ]
    }
   ],
   "source": [
    "# define tensors for the model parameters  and move them to the device \n",
    "torch.manual_seed(42)\n",
    "b = torch.randn(1 , requires_grad= True , device= device  , dtype = torch.float)\n",
    "w = torch.randn(1 , requires_grad = True , device = device , dtype = torch.float)\n",
    "print(b , w)"
   ]
  },
  {
   "cell_type": "code",
   "execution_count": 18,
   "metadata": {},
   "outputs": [],
   "source": [
    "# compute the model prediction output \n",
    "yhat = b + w * x_train_tensor "
   ]
  },
  {
   "cell_type": "code",
   "execution_count": 19,
   "metadata": {},
   "outputs": [
    {
     "data": {
      "text/plain": [
       "tensor(133.6465, device='cuda:0', grad_fn=<MeanBackward0>)"
      ]
     },
     "execution_count": 19,
     "metadata": {},
     "output_type": "execute_result"
    }
   ],
   "source": [
    "# computes the loss \n",
    "error = yhat - y_train_tensor \n",
    "# regression so  , using mean squared erro \n",
    "loss = (error**2).mean()\n",
    "loss"
   ]
  },
  {
   "cell_type": "code",
   "execution_count": 20,
   "metadata": {},
   "outputs": [],
   "source": [
    "# step 3 - compute the gradients for both b and w parameters \n",
    "# no more manual computation of the gradients \n",
    "loss.backward()"
   ]
  },
  {
   "cell_type": "code",
   "execution_count": 21,
   "metadata": {},
   "outputs": [],
   "source": [
    "# onyl tensor  which where we set requires_grad can only be handel vai backward()  "
   ]
  },
  {
   "cell_type": "markdown",
   "metadata": {},
   "source": [
    "GRAD "
   ]
  },
  {
   "cell_type": "code",
   "execution_count": 22,
   "metadata": {},
   "outputs": [
    {
     "data": {
      "text/plain": [
       "tensor([-20.3401], device='cuda:0')"
      ]
     },
     "execution_count": 22,
     "metadata": {},
     "output_type": "execute_result"
    }
   ],
   "source": [
    "# actuall values of the gradient  \n",
    "b.grad"
   ]
  },
  {
   "cell_type": "code",
   "execution_count": 23,
   "metadata": {},
   "outputs": [
    {
     "data": {
      "text/plain": [
       "tensor([-133.2413], device='cuda:0')"
      ]
     },
     "execution_count": 23,
     "metadata": {},
     "output_type": "execute_result"
    }
   ],
   "source": [
    "w.grad"
   ]
  },
  {
   "cell_type": "markdown",
   "metadata": {},
   "source": [
    "## Zero , setp -4 "
   ]
  },
  {
   "cell_type": "code",
   "execution_count": 24,
   "metadata": {},
   "outputs": [
    {
     "data": {
      "text/plain": [
       "tensor([0.1940], device='cuda:0', requires_grad=True)"
      ]
     },
     "execution_count": 24,
     "metadata": {},
     "output_type": "execute_result"
    }
   ],
   "source": [
    "b"
   ]
  },
  {
   "cell_type": "code",
   "execution_count": 25,
   "metadata": {},
   "outputs": [
    {
     "data": {
      "text/plain": [
       "tensor([-20.3401], device='cuda:0')"
      ]
     },
     "execution_count": 25,
     "metadata": {},
     "output_type": "execute_result"
    }
   ],
   "source": [
    "b.grad"
   ]
  },
  {
   "cell_type": "code",
   "execution_count": 26,
   "metadata": {},
   "outputs": [
    {
     "data": {
      "text/plain": [
       "tensor([0.], device='cuda:0')"
      ]
     },
     "execution_count": 26,
     "metadata": {},
     "output_type": "execute_result"
    }
   ],
   "source": [
    "b.grad.zero_()"
   ]
  },
  {
   "cell_type": "code",
   "execution_count": 27,
   "metadata": {},
   "outputs": [
    {
     "data": {
      "text/plain": [
       "tensor([0.], device='cuda:0')"
      ]
     },
     "execution_count": 27,
     "metadata": {},
     "output_type": "execute_result"
    }
   ],
   "source": [
    "w.grad.zero_()"
   ]
  },
  {
   "cell_type": "markdown",
   "metadata": {},
   "source": [
    "## Updating Parameter "
   ]
  },
  {
   "cell_type": "code",
   "execution_count": 28,
   "metadata": {},
   "outputs": [],
   "source": [
    "lr = 0.1 \n",
    "torch.manual_seed(42)\n",
    "w = torch.randn(1 , requires_grad= True , dtype = torch.float , device = device)\n",
    "b = torch.randn(1, requires_grad = True , dtype = torch.float , device  = device)\n",
    "\n",
    "# define number of epochs \n",
    "n_epochs = 100 \n",
    "\n"
   ]
  },
  {
   "cell_type": "code",
   "execution_count": 29,
   "metadata": {},
   "outputs": [
    {
     "name": "stdout",
     "output_type": "stream",
     "text": [
      "tensor([2.1292], device='cuda:0', requires_grad=True) tensor([13.2053], device='cuda:0', requires_grad=True)\n",
      "tensor([-9.2900], device='cuda:0', requires_grad=True) tensor([-62.9535], device='cuda:0', requires_grad=True)\n",
      "tensor([57.7335], device='cuda:0', requires_grad=True) tensor([382.5966], device='cuda:0', requires_grad=True)\n",
      "tensor([-334.1979], device='cuda:0', requires_grad=True) tensor([-2224.2126], device='cuda:0', requires_grad=True)\n",
      "tensor([1959.0663], device='cuda:0', requires_grad=True) tensor([13027.4092], device='cuda:0', requires_grad=True)\n",
      "tensor([-11457.9434], device='cuda:0', requires_grad=True) tensor([-76205.2344], device='cuda:0', requires_grad=True)\n",
      "tensor([67041.0781], device='cuda:0', requires_grad=True) tensor([445867.8750], device='cuda:0', requires_grad=True)\n",
      "tensor([-392232.7500], device='cuda:0', requires_grad=True) tensor([-2608623.5000], device='cuda:0', requires_grad=True)\n",
      "tensor([2294839.5000], device='cuda:0', requires_grad=True) tensor([15262278.], device='cuda:0', requires_grad=True)\n",
      "tensor([-13426406.], device='cuda:0', requires_grad=True) tensor([-89294952.], device='cuda:0', requires_grad=True)\n",
      "tensor([78553832.], device='cuda:0', requires_grad=True) tensor([5.2244e+08], device='cuda:0', requires_grad=True)\n",
      "tensor([-4.5959e+08], device='cuda:0', requires_grad=True) tensor([-3.0566e+09], device='cuda:0', requires_grad=True)\n",
      "tensor([2.6889e+09], device='cuda:0', requires_grad=True) tensor([1.7883e+10], device='cuda:0', requires_grad=True)\n",
      "tensor([-1.5732e+10], device='cuda:0', requires_grad=True) tensor([-1.0463e+11], device='cuda:0', requires_grad=True)\n",
      "tensor([9.2044e+10], device='cuda:0', requires_grad=True) tensor([6.1216e+11], device='cuda:0', requires_grad=True)\n",
      "tensor([-5.3852e+11], device='cuda:0', requires_grad=True) tensor([-3.5816e+12], device='cuda:0', requires_grad=True)\n",
      "tensor([3.1507e+12], device='cuda:0', requires_grad=True) tensor([2.0955e+13], device='cuda:0', requires_grad=True)\n",
      "tensor([-1.8434e+13], device='cuda:0', requires_grad=True) tensor([-1.2260e+14], device='cuda:0', requires_grad=True)\n",
      "tensor([1.0785e+14], device='cuda:0', requires_grad=True) tensor([7.1729e+14], device='cuda:0', requires_grad=True)\n",
      "tensor([-6.3101e+14], device='cuda:0', requires_grad=True) tensor([-4.1967e+15], device='cuda:0', requires_grad=True)\n",
      "tensor([3.6918e+15], device='cuda:0', requires_grad=True) tensor([2.4553e+16], device='cuda:0', requires_grad=True)\n",
      "tensor([-2.1600e+16], device='cuda:0', requires_grad=True) tensor([-1.4365e+17], device='cuda:0', requires_grad=True)\n",
      "tensor([1.2637e+17], device='cuda:0', requires_grad=True) tensor([8.4048e+17], device='cuda:0', requires_grad=True)\n",
      "tensor([-7.3938e+17], device='cuda:0', requires_grad=True) tensor([-4.9174e+18], device='cuda:0', requires_grad=True)\n",
      "tensor([4.3259e+18], device='cuda:0', requires_grad=True) tensor([2.8770e+19], device='cuda:0', requires_grad=True)\n",
      "tensor([-2.5309e+19], device='cuda:0', requires_grad=True) tensor([-1.6832e+20], device='cuda:0', requires_grad=True)\n",
      "tensor([1.4808e+20], device='cuda:0', requires_grad=True) tensor([9.8482e+20], device='cuda:0', requires_grad=True)\n",
      "tensor([-8.6636e+20], device='cuda:0', requires_grad=True) tensor([-5.7619e+21], device='cuda:0', requires_grad=True)\n",
      "tensor([5.0688e+21], device='cuda:0', requires_grad=True) tensor([3.3711e+22], device='cuda:0', requires_grad=True)\n",
      "tensor([-2.9656e+22], device='cuda:0', requires_grad=True) tensor([-1.9723e+23], device='cuda:0', requires_grad=True)\n",
      "tensor([1.7351e+23], device='cuda:0', requires_grad=True) tensor([1.1539e+24], device='cuda:0', requires_grad=True)\n",
      "tensor([-1.0151e+24], device='cuda:0', requires_grad=True) tensor([-6.7514e+24], device='cuda:0', requires_grad=True)\n",
      "tensor([5.9393e+24], device='cuda:0', requires_grad=True) tensor([3.9500e+25], device='cuda:0', requires_grad=True)\n",
      "tensor([-3.4749e+25], device='cuda:0', requires_grad=True) tensor([-2.3110e+26], device='cuda:0', requires_grad=True)\n",
      "tensor([2.0331e+26], device='cuda:0', requires_grad=True) tensor([1.3521e+27], device='cuda:0', requires_grad=True)\n",
      "tensor([-1.1895e+27], device='cuda:0', requires_grad=True) tensor([-7.9109e+27], device='cuda:0', requires_grad=True)\n",
      "tensor([6.9593e+27], device='cuda:0', requires_grad=True) tensor([4.6284e+28], device='cuda:0', requires_grad=True)\n",
      "tensor([-4.0717e+28], device='cuda:0', requires_grad=True) tensor([-2.7079e+29], device='cuda:0', requires_grad=True)\n",
      "tensor([2.3822e+29], device='cuda:0', requires_grad=True) tensor([1.5843e+30], device='cuda:0', requires_grad=True)\n",
      "tensor([-1.3938e+30], device='cuda:0', requires_grad=True) tensor([-9.2695e+30], device='cuda:0', requires_grad=True)\n",
      "tensor([8.1545e+30], device='cuda:0', requires_grad=True) tensor([5.4233e+31], device='cuda:0', requires_grad=True)\n",
      "tensor([-4.7709e+31], device='cuda:0', requires_grad=True) tensor([-3.1730e+32], device='cuda:0', requires_grad=True)\n",
      "tensor([2.7913e+32], device='cuda:0', requires_grad=True) tensor([1.8564e+33], device='cuda:0', requires_grad=True)\n",
      "tensor([-1.6331e+33], device='cuda:0', requires_grad=True) tensor([-1.0861e+34], device='cuda:0', requires_grad=True)\n",
      "tensor([9.5549e+33], device='cuda:0', requires_grad=True) tensor([6.3547e+34], device='cuda:0', requires_grad=True)\n",
      "tensor([-5.5903e+34], device='cuda:0', requires_grad=True) tensor([-3.7179e+35], device='cuda:0', requires_grad=True)\n",
      "tensor([3.2707e+35], device='cuda:0', requires_grad=True) tensor([2.1752e+36], device='cuda:0', requires_grad=True)\n",
      "tensor([-1.9136e+36], device='cuda:0', requires_grad=True) tensor([-1.2727e+37], device='cuda:0', requires_grad=True)\n",
      "tensor([1.1196e+37], device='cuda:0', requires_grad=True) tensor([inf], device='cuda:0', requires_grad=True)\n",
      "tensor([nan], device='cuda:0', requires_grad=True) tensor([nan], device='cuda:0', requires_grad=True)\n",
      "tensor([nan], device='cuda:0', requires_grad=True) tensor([nan], device='cuda:0', requires_grad=True)\n",
      "tensor([nan], device='cuda:0', requires_grad=True) tensor([nan], device='cuda:0', requires_grad=True)\n",
      "tensor([nan], device='cuda:0', requires_grad=True) tensor([nan], device='cuda:0', requires_grad=True)\n",
      "tensor([nan], device='cuda:0', requires_grad=True) tensor([nan], device='cuda:0', requires_grad=True)\n",
      "tensor([nan], device='cuda:0', requires_grad=True) tensor([nan], device='cuda:0', requires_grad=True)\n",
      "tensor([nan], device='cuda:0', requires_grad=True) tensor([nan], device='cuda:0', requires_grad=True)\n",
      "tensor([nan], device='cuda:0', requires_grad=True) tensor([nan], device='cuda:0', requires_grad=True)\n",
      "tensor([nan], device='cuda:0', requires_grad=True) tensor([nan], device='cuda:0', requires_grad=True)\n",
      "tensor([nan], device='cuda:0', requires_grad=True) tensor([nan], device='cuda:0', requires_grad=True)\n",
      "tensor([nan], device='cuda:0', requires_grad=True) tensor([nan], device='cuda:0', requires_grad=True)\n",
      "tensor([nan], device='cuda:0', requires_grad=True) tensor([nan], device='cuda:0', requires_grad=True)\n",
      "tensor([nan], device='cuda:0', requires_grad=True) tensor([nan], device='cuda:0', requires_grad=True)\n",
      "tensor([nan], device='cuda:0', requires_grad=True) tensor([nan], device='cuda:0', requires_grad=True)\n",
      "tensor([nan], device='cuda:0', requires_grad=True) tensor([nan], device='cuda:0', requires_grad=True)\n",
      "tensor([nan], device='cuda:0', requires_grad=True) tensor([nan], device='cuda:0', requires_grad=True)\n",
      "tensor([nan], device='cuda:0', requires_grad=True) tensor([nan], device='cuda:0', requires_grad=True)\n",
      "tensor([nan], device='cuda:0', requires_grad=True) tensor([nan], device='cuda:0', requires_grad=True)\n",
      "tensor([nan], device='cuda:0', requires_grad=True) tensor([nan], device='cuda:0', requires_grad=True)\n",
      "tensor([nan], device='cuda:0', requires_grad=True) tensor([nan], device='cuda:0', requires_grad=True)\n",
      "tensor([nan], device='cuda:0', requires_grad=True) tensor([nan], device='cuda:0', requires_grad=True)\n",
      "tensor([nan], device='cuda:0', requires_grad=True) tensor([nan], device='cuda:0', requires_grad=True)\n",
      "tensor([nan], device='cuda:0', requires_grad=True) tensor([nan], device='cuda:0', requires_grad=True)\n",
      "tensor([nan], device='cuda:0', requires_grad=True) tensor([nan], device='cuda:0', requires_grad=True)\n",
      "tensor([nan], device='cuda:0', requires_grad=True) tensor([nan], device='cuda:0', requires_grad=True)\n",
      "tensor([nan], device='cuda:0', requires_grad=True) tensor([nan], device='cuda:0', requires_grad=True)\n",
      "tensor([nan], device='cuda:0', requires_grad=True) tensor([nan], device='cuda:0', requires_grad=True)\n",
      "tensor([nan], device='cuda:0', requires_grad=True) tensor([nan], device='cuda:0', requires_grad=True)\n",
      "tensor([nan], device='cuda:0', requires_grad=True) tensor([nan], device='cuda:0', requires_grad=True)\n",
      "tensor([nan], device='cuda:0', requires_grad=True) tensor([nan], device='cuda:0', requires_grad=True)\n",
      "tensor([nan], device='cuda:0', requires_grad=True) tensor([nan], device='cuda:0', requires_grad=True)\n",
      "tensor([nan], device='cuda:0', requires_grad=True) tensor([nan], device='cuda:0', requires_grad=True)\n",
      "tensor([nan], device='cuda:0', requires_grad=True) tensor([nan], device='cuda:0', requires_grad=True)\n",
      "tensor([nan], device='cuda:0', requires_grad=True) tensor([nan], device='cuda:0', requires_grad=True)\n",
      "tensor([nan], device='cuda:0', requires_grad=True) tensor([nan], device='cuda:0', requires_grad=True)\n",
      "tensor([nan], device='cuda:0', requires_grad=True) tensor([nan], device='cuda:0', requires_grad=True)\n",
      "tensor([nan], device='cuda:0', requires_grad=True) tensor([nan], device='cuda:0', requires_grad=True)\n",
      "tensor([nan], device='cuda:0', requires_grad=True) tensor([nan], device='cuda:0', requires_grad=True)\n",
      "tensor([nan], device='cuda:0', requires_grad=True) tensor([nan], device='cuda:0', requires_grad=True)\n",
      "tensor([nan], device='cuda:0', requires_grad=True) tensor([nan], device='cuda:0', requires_grad=True)\n",
      "tensor([nan], device='cuda:0', requires_grad=True) tensor([nan], device='cuda:0', requires_grad=True)\n",
      "tensor([nan], device='cuda:0', requires_grad=True) tensor([nan], device='cuda:0', requires_grad=True)\n",
      "tensor([nan], device='cuda:0', requires_grad=True) tensor([nan], device='cuda:0', requires_grad=True)\n",
      "tensor([nan], device='cuda:0', requires_grad=True) tensor([nan], device='cuda:0', requires_grad=True)\n",
      "tensor([nan], device='cuda:0', requires_grad=True) tensor([nan], device='cuda:0', requires_grad=True)\n",
      "tensor([nan], device='cuda:0', requires_grad=True) tensor([nan], device='cuda:0', requires_grad=True)\n",
      "tensor([nan], device='cuda:0', requires_grad=True) tensor([nan], device='cuda:0', requires_grad=True)\n",
      "tensor([nan], device='cuda:0', requires_grad=True) tensor([nan], device='cuda:0', requires_grad=True)\n",
      "tensor([nan], device='cuda:0', requires_grad=True) tensor([nan], device='cuda:0', requires_grad=True)\n",
      "tensor([nan], device='cuda:0', requires_grad=True) tensor([nan], device='cuda:0', requires_grad=True)\n",
      "tensor([nan], device='cuda:0', requires_grad=True) tensor([nan], device='cuda:0', requires_grad=True)\n"
     ]
    }
   ],
   "source": [
    "for epoch in range(n_epochs):\n",
    "    yhat = b + w*x_train_tensor \n",
    "\n",
    "    #step - 2 \n",
    "    error = yhat - y_train_tensor\n",
    "    loss = (error**2).mean() \n",
    "    ########## \n",
    "    loss.backward()\n",
    "\n",
    "    with torch.no_grad():\n",
    "        b -= lr*b.grad\n",
    "        w -= lr *w.grad\n",
    "\n",
    "        b.grad.zero_() \n",
    "        w.grad.zero_() \n",
    "    print(b , w )\n",
    "\n",
    "\n"
   ]
  },
  {
   "cell_type": "code",
   "execution_count": 30,
   "metadata": {},
   "outputs": [
    {
     "data": {
      "text/plain": [
       "tensor([nan], device='cuda:0', requires_grad=True)"
      ]
     },
     "execution_count": 30,
     "metadata": {},
     "output_type": "execute_result"
    }
   ],
   "source": [
    "b"
   ]
  },
  {
   "cell_type": "code",
   "execution_count": 31,
   "metadata": {},
   "outputs": [
    {
     "data": {
      "text/plain": [
       "tensor([0.], device='cuda:0')"
      ]
     },
     "execution_count": 31,
     "metadata": {},
     "output_type": "execute_result"
    }
   ],
   "source": [
    "b.grad"
   ]
  },
  {
   "cell_type": "code",
   "execution_count": null,
   "metadata": {},
   "outputs": [],
   "source": []
  },
  {
   "cell_type": "code",
   "execution_count": null,
   "metadata": {},
   "outputs": [],
   "source": []
  }
 ],
 "metadata": {
  "kernelspec": {
   "display_name": "mlenv",
   "language": "python",
   "name": "python3"
  },
  "language_info": {
   "codemirror_mode": {
    "name": "ipython",
    "version": 3
   },
   "file_extension": ".py",
   "mimetype": "text/x-python",
   "name": "python",
   "nbconvert_exporter": "python",
   "pygments_lexer": "ipython3",
   "version": "3.11.9"
  }
 },
 "nbformat": 4,
 "nbformat_minor": 2
}
