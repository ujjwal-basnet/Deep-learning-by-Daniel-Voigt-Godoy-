{
 "cells": [
  {
   "cell_type": "code",
   "execution_count": 67,
   "metadata": {},
   "outputs": [],
   "source": [
    "import torch "
   ]
  },
  {
   "cell_type": "code",
   "execution_count": 68,
   "metadata": {},
   "outputs": [
    {
     "name": "stdout",
     "output_type": "stream",
     "text": [
      "NVIDIA GeForce RTX 3050 Laptop GPU\n"
     ]
    }
   ],
   "source": [
    "#configuration \n",
    "device = torch.device('cuda' if torch.cuda.is_available() else 'cpu')\n",
    "for i in range(torch.cuda.device_count()):\n",
    "    print(torch.cuda.get_device_name())"
   ]
  },
  {
   "cell_type": "code",
   "execution_count": 69,
   "metadata": {},
   "outputs": [
    {
     "data": {
      "text/plain": [
       "(torch.Size([100]), torch.Size([100]))"
      ]
     },
     "execution_count": 69,
     "metadata": {},
     "output_type": "execute_result"
    }
   ],
   "source": [
    "torch.manual_seed(42)\n",
    "\n",
    "x_train = torch.linspace(0 , 10 , 100)\n",
    "y_train = 2*x_train + 1 + torch.randn(100)  # y = 2x + 1 with noise \n",
    "x_train.shape , y_train.shape"
   ]
  },
  {
   "cell_type": "code",
   "execution_count": 70,
   "metadata": {},
   "outputs": [],
   "source": [
    "#convert data to tensor and move them to the device \n",
    "x_train_tensor = x_train.view(-1 , 1 ).to(device)\n",
    "\n",
    "y_train_tensor = y_train.view(-1 , 1 ).to(device)"
   ]
  },
  {
   "cell_type": "code",
   "execution_count": 71,
   "metadata": {},
   "outputs": [
    {
     "name": "stdout",
     "output_type": "stream",
     "text": [
      "tensor([0.1940], device='cuda:0', requires_grad=True) tensor([0.1391], device='cuda:0', requires_grad=True)\n"
     ]
    }
   ],
   "source": [
    "# define tensors for the model parameters  and move them to the device \n",
    "torch.manual_seed(42)\n",
    "b = torch.randn(1 , requires_grad= True , device= device  , dtype = torch.float)\n",
    "w = torch.randn(1 , requires_grad = True , device = device , dtype = torch.float)\n",
    "print(b , w)"
   ]
  },
  {
   "cell_type": "code",
   "execution_count": 84,
   "metadata": {},
   "outputs": [],
   "source": [
    "# compute the model prediction output \n",
    "yhat = b + w * x_train_tensor "
   ]
  },
  {
   "cell_type": "code",
   "execution_count": 85,
   "metadata": {},
   "outputs": [
    {
     "data": {
      "text/plain": [
       "tensor(133.6465, device='cuda:0', grad_fn=<MeanBackward0>)"
      ]
     },
     "execution_count": 85,
     "metadata": {},
     "output_type": "execute_result"
    }
   ],
   "source": [
    "# computes the loss \n",
    "error = yhat - y_train_tensor \n",
    "# regression so  , using mean squared erro \n",
    "loss = (error**2).mean()\n",
    "loss"
   ]
  },
  {
   "cell_type": "code",
   "execution_count": 86,
   "metadata": {},
   "outputs": [],
   "source": [
    "# step 3 - compute the gradients for both b and w parameters \n",
    "# no more manual computation of the gradients \n",
    "loss.backward()"
   ]
  },
  {
   "cell_type": "code",
   "execution_count": 87,
   "metadata": {},
   "outputs": [],
   "source": [
    "# onyl tensor  which where we set requires_grad can only be handel vai backward()  "
   ]
  },
  {
   "cell_type": "markdown",
   "metadata": {},
   "source": [
    "GRAD "
   ]
  },
  {
   "cell_type": "code",
   "execution_count": 88,
   "metadata": {},
   "outputs": [
    {
     "data": {
      "text/plain": [
       "tensor([-61.0204], device='cuda:0')"
      ]
     },
     "execution_count": 88,
     "metadata": {},
     "output_type": "execute_result"
    }
   ],
   "source": [
    "# actuall values of the gradient  \n",
    "b.grad"
   ]
  },
  {
   "cell_type": "code",
   "execution_count": 89,
   "metadata": {},
   "outputs": [
    {
     "data": {
      "text/plain": [
       "tensor([-399.7238], device='cuda:0')"
      ]
     },
     "execution_count": 89,
     "metadata": {},
     "output_type": "execute_result"
    }
   ],
   "source": [
    "w.grad"
   ]
  },
  {
   "cell_type": "markdown",
   "metadata": {},
   "source": [
    "## Zero , setp -4 "
   ]
  },
  {
   "cell_type": "code",
   "execution_count": 90,
   "metadata": {},
   "outputs": [
    {
     "data": {
      "text/plain": [
       "tensor([0.1940], device='cuda:0', requires_grad=True)"
      ]
     },
     "execution_count": 90,
     "metadata": {},
     "output_type": "execute_result"
    }
   ],
   "source": [
    "b"
   ]
  },
  {
   "cell_type": "code",
   "execution_count": 92,
   "metadata": {},
   "outputs": [
    {
     "data": {
      "text/plain": [
       "tensor([-61.0204], device='cuda:0')"
      ]
     },
     "execution_count": 92,
     "metadata": {},
     "output_type": "execute_result"
    }
   ],
   "source": [
    "b.grad"
   ]
  },
  {
   "cell_type": "code",
   "execution_count": 93,
   "metadata": {},
   "outputs": [
    {
     "data": {
      "text/plain": [
       "tensor([0.], device='cuda:0')"
      ]
     },
     "execution_count": 93,
     "metadata": {},
     "output_type": "execute_result"
    }
   ],
   "source": [
    "b.grad.zero_()"
   ]
  },
  {
   "cell_type": "code",
   "execution_count": 102,
   "metadata": {},
   "outputs": [
    {
     "data": {
      "text/plain": [
       "tensor([0.], device='cuda:0')"
      ]
     },
     "execution_count": 102,
     "metadata": {},
     "output_type": "execute_result"
    }
   ],
   "source": [
    "w.grad.zero_()"
   ]
  },
  {
   "cell_type": "markdown",
   "metadata": {},
   "source": [
    "## Updating Parameter "
   ]
  },
  {
   "cell_type": "code",
   "execution_count": 104,
   "metadata": {},
   "outputs": [],
   "source": [
    "lr = 0.1 \n",
    "torch.manual_seed(42)\n",
    "w = torch.randn(1 , requires_grad= True , dtype = torch.float , device = device)\n",
    "b = torch.randn(1, requires_grad = True , dtype = torch.float , device  = device)\n",
    "\n",
    "# define number of epochs \n",
    "n_epochs = 100 \n",
    "\n"
   ]
  },
  {
   "cell_type": "code",
   "execution_count": 110,
   "metadata": {},
   "outputs": [
    {
     "name": "stdout",
     "output_type": "stream",
     "text": [
      "tensor([5606.7456], device='cuda:0', requires_grad=True) tensor([29566.5605], device='cuda:0', requires_grad=True)\n",
      "tensor([-25078.9512], device='cuda:0', requires_grad=True) tensor([-174131.6562], device='cuda:0', requires_grad=True)\n",
      "tensor([154070.7188], device='cuda:0', requires_grad=True) tensor([1017702.5000], device='cuda:0', requires_grad=True)\n",
      "tensor([-894443.7500], device='cuda:0', requires_grad=True) tensor([-5955303.], device='cuda:0', requires_grad=True)\n",
      "tensor([5239750.], device='cuda:0', requires_grad=True) tensor([34841688.], device='cuda:0', requires_grad=True)\n",
      "tensor([-30649882.], device='cuda:0', requires_grad=True) tensor([-2.0385e+08], device='cuda:0', requires_grad=True)\n",
      "tensor([1.7933e+08], device='cuda:0', requires_grad=True) tensor([1.1927e+09], device='cuda:0', requires_grad=True)\n",
      "tensor([-1.0492e+09], device='cuda:0', requires_grad=True) tensor([-6.9779e+09], device='cuda:0', requires_grad=True)\n",
      "tensor([6.1385e+09], device='cuda:0', requires_grad=True) tensor([4.0825e+10], device='cuda:0', requires_grad=True)\n",
      "tensor([-3.5915e+10], device='cuda:0', requires_grad=True) tensor([-2.3886e+11], device='cuda:0', requires_grad=True)\n",
      "tensor([2.1013e+11], device='cuda:0', requires_grad=True) tensor([1.3975e+12], device='cuda:0', requires_grad=True)\n",
      "tensor([-1.2294e+12], device='cuda:0', requires_grad=True) tensor([-8.1762e+12], device='cuda:0', requires_grad=True)\n",
      "tensor([7.1927e+12], device='cuda:0', requires_grad=True) tensor([4.7837e+13], device='cuda:0', requires_grad=True)\n",
      "tensor([-4.2083e+13], device='cuda:0', requires_grad=True) tensor([-2.7988e+14], device='cuda:0', requires_grad=True)\n",
      "tensor([2.4621e+14], device='cuda:0', requires_grad=True) tensor([1.6375e+15], device='cuda:0', requires_grad=True)\n",
      "tensor([-1.4405e+15], device='cuda:0', requires_grad=True) tensor([-9.5804e+15], device='cuda:0', requires_grad=True)\n",
      "tensor([8.4280e+15], device='cuda:0', requires_grad=True) tensor([5.6052e+16], device='cuda:0', requires_grad=True)\n",
      "tensor([-4.9310e+16], device='cuda:0', requires_grad=True) tensor([-3.2794e+17], device='cuda:0', requires_grad=True)\n",
      "tensor([2.8850e+17], device='cuda:0', requires_grad=True) tensor([1.9187e+18], device='cuda:0', requires_grad=True)\n",
      "tensor([-1.6879e+18], device='cuda:0', requires_grad=True) tensor([-1.1226e+19], device='cuda:0', requires_grad=True)\n",
      "tensor([9.8754e+18], device='cuda:0', requires_grad=True) tensor([6.5678e+19], device='cuda:0', requires_grad=True)\n",
      "tensor([-5.7778e+19], device='cuda:0', requires_grad=True) tensor([-3.8426e+20], device='cuda:0', requires_grad=True)\n",
      "tensor([3.3804e+20], device='cuda:0', requires_grad=True) tensor([2.2482e+21], device='cuda:0', requires_grad=True)\n",
      "tensor([-1.9778e+21], device='cuda:0', requires_grad=True) tensor([-1.3154e+22], device='cuda:0', requires_grad=True)\n",
      "tensor([1.1571e+22], device='cuda:0', requires_grad=True) tensor([7.6958e+22], device='cuda:0', requires_grad=True)\n",
      "tensor([-6.7701e+22], device='cuda:0', requires_grad=True) tensor([-4.5026e+23], device='cuda:0', requires_grad=True)\n",
      "tensor([3.9610e+23], device='cuda:0', requires_grad=True) tensor([2.6343e+24], device='cuda:0', requires_grad=True)\n",
      "tensor([-2.3174e+24], device='cuda:0', requires_grad=True) tensor([-1.5413e+25], device='cuda:0', requires_grad=True)\n",
      "tensor([1.3559e+25], device='cuda:0', requires_grad=True) tensor([9.0174e+25], device='cuda:0', requires_grad=True)\n",
      "tensor([-7.9327e+25], device='cuda:0', requires_grad=True) tensor([-5.2758e+26], device='cuda:0', requires_grad=True)\n",
      "tensor([4.6412e+26], device='cuda:0', requires_grad=True) tensor([3.0867e+27], device='cuda:0', requires_grad=True)\n",
      "tensor([-2.7154e+27], device='cuda:0', requires_grad=True) tensor([-1.8060e+28], device='cuda:0', requires_grad=True)\n",
      "tensor([1.5887e+28], device='cuda:0', requires_grad=True) tensor([1.0566e+29], device='cuda:0', requires_grad=True)\n",
      "tensor([-9.2951e+28], device='cuda:0', requires_grad=True) tensor([-6.1819e+29], device='cuda:0', requires_grad=True)\n",
      "tensor([5.4383e+29], device='cuda:0', requires_grad=True) tensor([3.6168e+30], device='cuda:0', requires_grad=True)\n",
      "tensor([-3.1818e+30], device='cuda:0', requires_grad=True) tensor([-2.1161e+31], device='cuda:0', requires_grad=True)\n",
      "tensor([1.8616e+31], device='cuda:0', requires_grad=True) tensor([1.2381e+32], device='cuda:0', requires_grad=True)\n",
      "tensor([-1.0891e+32], device='cuda:0', requires_grad=True) tensor([-7.2436e+32], device='cuda:0', requires_grad=True)\n",
      "tensor([6.3722e+32], device='cuda:0', requires_grad=True) tensor([4.2380e+33], device='cuda:0', requires_grad=True)\n",
      "tensor([-3.7282e+33], device='cuda:0', requires_grad=True) tensor([-2.4795e+34], device='cuda:0', requires_grad=True)\n",
      "tensor([2.1813e+34], device='cuda:0', requires_grad=True) tensor([1.4507e+35], device='cuda:0', requires_grad=True)\n",
      "tensor([-1.2762e+35], device='cuda:0', requires_grad=True) tensor([-8.4875e+35], device='cuda:0', requires_grad=True)\n",
      "tensor([7.4666e+35], device='cuda:0', requires_grad=True) tensor([4.9658e+36], device='cuda:0', requires_grad=True)\n",
      "tensor([-4.3685e+36], device='cuda:0', requires_grad=True) tensor([-2.9053e+37], device='cuda:0', requires_grad=True)\n",
      "tensor([inf], device='cuda:0', requires_grad=True) tensor([inf], device='cuda:0', requires_grad=True)\n",
      "tensor([nan], device='cuda:0', requires_grad=True) tensor([nan], device='cuda:0', requires_grad=True)\n",
      "tensor([nan], device='cuda:0', requires_grad=True) tensor([nan], device='cuda:0', requires_grad=True)\n",
      "tensor([nan], device='cuda:0', requires_grad=True) tensor([nan], device='cuda:0', requires_grad=True)\n",
      "tensor([nan], device='cuda:0', requires_grad=True) tensor([nan], device='cuda:0', requires_grad=True)\n",
      "tensor([nan], device='cuda:0', requires_grad=True) tensor([nan], device='cuda:0', requires_grad=True)\n",
      "tensor([nan], device='cuda:0', requires_grad=True) tensor([nan], device='cuda:0', requires_grad=True)\n",
      "tensor([nan], device='cuda:0', requires_grad=True) tensor([nan], device='cuda:0', requires_grad=True)\n",
      "tensor([nan], device='cuda:0', requires_grad=True) tensor([nan], device='cuda:0', requires_grad=True)\n",
      "tensor([nan], device='cuda:0', requires_grad=True) tensor([nan], device='cuda:0', requires_grad=True)\n",
      "tensor([nan], device='cuda:0', requires_grad=True) tensor([nan], device='cuda:0', requires_grad=True)\n",
      "tensor([nan], device='cuda:0', requires_grad=True) tensor([nan], device='cuda:0', requires_grad=True)\n",
      "tensor([nan], device='cuda:0', requires_grad=True) tensor([nan], device='cuda:0', requires_grad=True)\n",
      "tensor([nan], device='cuda:0', requires_grad=True) tensor([nan], device='cuda:0', requires_grad=True)\n",
      "tensor([nan], device='cuda:0', requires_grad=True) tensor([nan], device='cuda:0', requires_grad=True)\n",
      "tensor([nan], device='cuda:0', requires_grad=True) tensor([nan], device='cuda:0', requires_grad=True)\n",
      "tensor([nan], device='cuda:0', requires_grad=True) tensor([nan], device='cuda:0', requires_grad=True)\n",
      "tensor([nan], device='cuda:0', requires_grad=True) tensor([nan], device='cuda:0', requires_grad=True)\n",
      "tensor([nan], device='cuda:0', requires_grad=True) tensor([nan], device='cuda:0', requires_grad=True)\n",
      "tensor([nan], device='cuda:0', requires_grad=True) tensor([nan], device='cuda:0', requires_grad=True)\n",
      "tensor([nan], device='cuda:0', requires_grad=True) tensor([nan], device='cuda:0', requires_grad=True)\n",
      "tensor([nan], device='cuda:0', requires_grad=True) tensor([nan], device='cuda:0', requires_grad=True)\n",
      "tensor([nan], device='cuda:0', requires_grad=True) tensor([nan], device='cuda:0', requires_grad=True)\n",
      "tensor([nan], device='cuda:0', requires_grad=True) tensor([nan], device='cuda:0', requires_grad=True)\n",
      "tensor([nan], device='cuda:0', requires_grad=True) tensor([nan], device='cuda:0', requires_grad=True)\n",
      "tensor([nan], device='cuda:0', requires_grad=True) tensor([nan], device='cuda:0', requires_grad=True)\n",
      "tensor([nan], device='cuda:0', requires_grad=True) tensor([nan], device='cuda:0', requires_grad=True)\n",
      "tensor([nan], device='cuda:0', requires_grad=True) tensor([nan], device='cuda:0', requires_grad=True)\n",
      "tensor([nan], device='cuda:0', requires_grad=True) tensor([nan], device='cuda:0', requires_grad=True)\n",
      "tensor([nan], device='cuda:0', requires_grad=True) tensor([nan], device='cuda:0', requires_grad=True)\n",
      "tensor([nan], device='cuda:0', requires_grad=True) tensor([nan], device='cuda:0', requires_grad=True)\n",
      "tensor([nan], device='cuda:0', requires_grad=True) tensor([nan], device='cuda:0', requires_grad=True)\n",
      "tensor([nan], device='cuda:0', requires_grad=True) tensor([nan], device='cuda:0', requires_grad=True)\n",
      "tensor([nan], device='cuda:0', requires_grad=True) tensor([nan], device='cuda:0', requires_grad=True)\n",
      "tensor([nan], device='cuda:0', requires_grad=True) tensor([nan], device='cuda:0', requires_grad=True)\n",
      "tensor([nan], device='cuda:0', requires_grad=True) tensor([nan], device='cuda:0', requires_grad=True)\n",
      "tensor([nan], device='cuda:0', requires_grad=True) tensor([nan], device='cuda:0', requires_grad=True)\n",
      "tensor([nan], device='cuda:0', requires_grad=True) tensor([nan], device='cuda:0', requires_grad=True)\n",
      "tensor([nan], device='cuda:0', requires_grad=True) tensor([nan], device='cuda:0', requires_grad=True)\n",
      "tensor([nan], device='cuda:0', requires_grad=True) tensor([nan], device='cuda:0', requires_grad=True)\n",
      "tensor([nan], device='cuda:0', requires_grad=True) tensor([nan], device='cuda:0', requires_grad=True)\n",
      "tensor([nan], device='cuda:0', requires_grad=True) tensor([nan], device='cuda:0', requires_grad=True)\n",
      "tensor([nan], device='cuda:0', requires_grad=True) tensor([nan], device='cuda:0', requires_grad=True)\n",
      "tensor([nan], device='cuda:0', requires_grad=True) tensor([nan], device='cuda:0', requires_grad=True)\n",
      "tensor([nan], device='cuda:0', requires_grad=True) tensor([nan], device='cuda:0', requires_grad=True)\n",
      "tensor([nan], device='cuda:0', requires_grad=True) tensor([nan], device='cuda:0', requires_grad=True)\n",
      "tensor([nan], device='cuda:0', requires_grad=True) tensor([nan], device='cuda:0', requires_grad=True)\n",
      "tensor([nan], device='cuda:0', requires_grad=True) tensor([nan], device='cuda:0', requires_grad=True)\n",
      "tensor([nan], device='cuda:0', requires_grad=True) tensor([nan], device='cuda:0', requires_grad=True)\n",
      "tensor([nan], device='cuda:0', requires_grad=True) tensor([nan], device='cuda:0', requires_grad=True)\n",
      "tensor([nan], device='cuda:0', requires_grad=True) tensor([nan], device='cuda:0', requires_grad=True)\n",
      "tensor([nan], device='cuda:0', requires_grad=True) tensor([nan], device='cuda:0', requires_grad=True)\n",
      "tensor([nan], device='cuda:0', requires_grad=True) tensor([nan], device='cuda:0', requires_grad=True)\n",
      "tensor([nan], device='cuda:0', requires_grad=True) tensor([nan], device='cuda:0', requires_grad=True)\n",
      "tensor([nan], device='cuda:0', requires_grad=True) tensor([nan], device='cuda:0', requires_grad=True)\n",
      "tensor([nan], device='cuda:0', requires_grad=True) tensor([nan], device='cuda:0', requires_grad=True)\n"
     ]
    }
   ],
   "source": [
    "for epoch in range(n_epochs):\n",
    "    yhat = b + w*x_train_tensor \n",
    "\n",
    "    #step - 2 \n",
    "    error = yhat - y_train_tensor\n",
    "    loss = (error**2).mean() \n",
    "    ########## \n",
    "    loss.backward()\n",
    "\n",
    "    with torch.no_grad():\n",
    "        b -= lr*b.grad\n",
    "        w -= lr *w.grad\n",
    "\n",
    "        b.grad.zero_() \n",
    "        w.grad.zero_() \n",
    "    print(b , w )\n",
    "\n",
    "\n"
   ]
  },
  {
   "cell_type": "code",
   "execution_count": 106,
   "metadata": {},
   "outputs": [
    {
     "data": {
      "text/plain": [
       "tensor([0.1391], device='cuda:0', requires_grad=True)"
      ]
     },
     "execution_count": 106,
     "metadata": {},
     "output_type": "execute_result"
    }
   ],
   "source": [
    "b"
   ]
  },
  {
   "cell_type": "code",
   "execution_count": 107,
   "metadata": {},
   "outputs": [
    {
     "data": {
      "text/plain": [
       "tensor([-1990.1093], device='cuda:0')"
      ]
     },
     "execution_count": 107,
     "metadata": {},
     "output_type": "execute_result"
    }
   ],
   "source": [
    "b.grad"
   ]
  },
  {
   "cell_type": "code",
   "execution_count": null,
   "metadata": {},
   "outputs": [],
   "source": []
  }
 ],
 "metadata": {
  "kernelspec": {
   "display_name": "mlenv",
   "language": "python",
   "name": "python3"
  },
  "language_info": {
   "codemirror_mode": {
    "name": "ipython",
    "version": 3
   },
   "file_extension": ".py",
   "mimetype": "text/x-python",
   "name": "python",
   "nbconvert_exporter": "python",
   "pygments_lexer": "ipython3",
   "version": "3.11.9"
  }
 },
 "nbformat": 4,
 "nbformat_minor": 2
}
