{
 "cells": [
  {
   "cell_type": "code",
   "execution_count": 53,
   "metadata": {},
   "outputs": [],
   "source": [
    "import torch\n",
    "device  = torch.device('cuda' if torch.cuda.is_available() else 'cpu')"
   ]
  },
  {
   "cell_type": "code",
   "execution_count": 68,
   "metadata": {},
   "outputs": [
    {
     "name": "stdout",
     "output_type": "stream",
     "text": [
      "tensor([0.3489], device='cuda:0', requires_grad=True) \n",
      " tensor([2.0979], device='cuda:0', requires_grad=True)\n"
     ]
    }
   ],
   "source": [
    "#configuring data \n",
    "x_train_tensor = torch.linspace(0 , 10 , 100 , dtype= torch.float).to(device).view(-1 , 1 )\n",
    "y_train_tensor = (x_train_tensor * 2  + 1).to(device).view(-1 , 1)\n",
    "\n",
    "#parameters\n",
    "w = torch.randn(1 , requires_grad= True ,  device= device , dtype = torch.float)\n",
    "b = torch.randn(1, requires_grad= True ,  device = device , dtype = torch.float)\n",
    "\n",
    "\n",
    "\n",
    "#define optimizer \n",
    "optimizer = torch.optim.SGD(params= [w , b ], lr = 0.01)\n",
    "n_epochs =100\n",
    "for epochs in range(n_epochs):\n",
    "    yhat =  b + w * x_train_tensor\n",
    "\n",
    "    #step - 2 compute looss\n",
    "    error = (yhat - y_train_tensor)\n",
    "    loss = (error **2).mean()\n",
    "\n",
    "    #step-3 compute gradient for both b and w parameters\n",
    "    loss.backward()\n",
    "\n",
    "    #step -4 update parameters using gradients and the learning rate \n",
    "    # with torch.nograd():\n",
    "    #   b-= lr * b.grad()\n",
    "    #   w-=- lr * 2.grad()\n",
    "    optimizer.step()\n",
    "    optimizer.zero_grad()\n",
    "print(b ,'\\n' ,  w)\n",
    "    \n",
    "\n"
   ]
  },
  {
   "cell_type": "markdown",
   "metadata": {},
   "source": [
    "## loss "
   ]
  },
  {
   "cell_type": "code",
   "execution_count": 69,
   "metadata": {},
   "outputs": [
    {
     "data": {
      "text/plain": [
       "MSELoss()"
      ]
     },
     "execution_count": 69,
     "metadata": {},
     "output_type": "execute_result"
    }
   ],
   "source": [
    "loss_fn =   torch.nn.MSELoss(reduction= 'mean')\n",
    "loss_fn"
   ]
  },
  {
   "cell_type": "code",
   "execution_count": 75,
   "metadata": {},
   "outputs": [
    {
     "data": {
      "text/plain": [
       "tensor([0.5000, 1.0000])"
      ]
     },
     "execution_count": 75,
     "metadata": {},
     "output_type": "execute_result"
    }
   ],
   "source": [
    "torch.tensor((0.5 , 1.0))"
   ]
  },
  {
   "cell_type": "code",
   "execution_count": 76,
   "metadata": {},
   "outputs": [
    {
     "data": {
      "text/plain": [
       "tensor(1.1700)"
      ]
     },
     "execution_count": 76,
     "metadata": {},
     "output_type": "execute_result"
    }
   ],
   "source": [
    "prediction = torch.tensor((0.5 , 1.0 ))\n",
    "labels = torch.tensor((2.0 , 1.3))\n",
    "loss_fn(prediction , labels)"
   ]
  },
  {
   "cell_type": "code",
   "execution_count": 71,
   "metadata": {},
   "outputs": [
    {
     "data": {
      "text/plain": [
       "tensor(2)"
      ]
     },
     "execution_count": 71,
     "metadata": {},
     "output_type": "execute_result"
    }
   ],
   "source": [
    "torch.tensor(2)"
   ]
  },
  {
   "cell_type": "code",
   "execution_count": 40,
   "metadata": {},
   "outputs": [
    {
     "name": "stdout",
     "output_type": "stream",
     "text": [
      "tensor([nan], device='cuda:0', requires_grad=True) tensor([nan], device='cuda:0', requires_grad=True)\n"
     ]
    }
   ],
   "source": [
    "n_epochs =100\n",
    "for epochs in range(n_epochs):\n",
    "    yhat =  \n",
    "\n",
    "    #step - 2 compute looss\n",
    "    error = (yhat - y_train_tensor)\n",
    "    loss = (error **2).mean()\n",
    "\n",
    "    #step-3 compute gradient for both b and w parameters\n",
    "    loss.backward()\n",
    "\n",
    "    #step -4 update parameters using gradients and the learning rate \n",
    "    # with torch.nograd():\n",
    "    #   b-= lr * b.grad()\n",
    "    #   w-=- lr * 2.grad()\n",
    "    optimizer.step()\n",
    "    optimizer.zero_grad()\n",
    "print(b , w)\n",
    "    \n",
    "\n"
   ]
  },
  {
   "cell_type": "code",
   "execution_count": 80,
   "metadata": {},
   "outputs": [
    {
     "name": "stdout",
     "output_type": "stream",
     "text": [
      "tensor([0.0184], device='cuda:0', requires_grad=True) \n",
      " tensor([2.1476], device='cuda:0', requires_grad=True)\n"
     ]
    }
   ],
   "source": [
    "## rewrite code implying loss function\n",
    "lr = 0.01 \n",
    "torch.manual_seed(0.1)\n",
    "b = torch.randn(1  , requires_grad= True ,  dtype  = torch.float , device  = device ).to(device)\n",
    "w = torch.randn(1 , requires_grad=  True , dtype = torch.float , device = device ).to(device)\n",
    "# optimizer \n",
    "optimizer = torch.optim.SGD(params = [w , b] , lr = lr )\n",
    "\n",
    "# define loss function \n",
    "loss_fn = torch.nn.MSELoss(reduction = 'mean')\n",
    "\n",
    "epochs = 100 \n",
    "for i in range(epochs):\n",
    "    yhat = b + w * x_train_tensor \n",
    "    loss = loss_fn(yhat , y_train_tensor)\n",
    "\n",
    "    # compute gradients for both  b and w \n",
    "    loss.backward()\n",
    "\n",
    "    #step-4 update parameters using gradients \n",
    "    optimizer.step()\n",
    "    optimizer.zero_grad()\n",
    "\n",
    "print(b ,'\\n' ,  w)\n",
    "    "
   ]
  },
  {
   "cell_type": "code",
   "execution_count": 81,
   "metadata": {},
   "outputs": [
    {
     "data": {
      "text/plain": [
       "tensor(0.2470, device='cuda:0', grad_fn=<MseLossBackward0>)"
      ]
     },
     "execution_count": 81,
     "metadata": {},
     "output_type": "execute_result"
    }
   ],
   "source": [
    "\n",
    "loss"
   ]
  },
  {
   "cell_type": "code",
   "execution_count": 86,
   "metadata": {},
   "outputs": [
    {
     "data": {
      "text/plain": [
       "tensor(0.2470, device='cuda:0')"
      ]
     },
     "execution_count": 86,
     "metadata": {},
     "output_type": "execute_result"
    }
   ],
   "source": [
    "loss.detach()"
   ]
  },
  {
   "cell_type": "code",
   "execution_count": 87,
   "metadata": {},
   "outputs": [
    {
     "data": {
      "text/plain": [
       "tensor(0.2470, device='cuda:0', grad_fn=<MseLossBackward0>)"
      ]
     },
     "execution_count": 87,
     "metadata": {},
     "output_type": "execute_result"
    }
   ],
   "source": [
    "loss\n"
   ]
  },
  {
   "cell_type": "code",
   "execution_count": null,
   "metadata": {},
   "outputs": [],
   "source": []
  }
 ],
 "metadata": {
  "kernelspec": {
   "display_name": "mlenv",
   "language": "python",
   "name": "python3"
  },
  "language_info": {
   "codemirror_mode": {
    "name": "ipython",
    "version": 3
   },
   "file_extension": ".py",
   "mimetype": "text/x-python",
   "name": "python",
   "nbconvert_exporter": "python",
   "pygments_lexer": "ipython3",
   "version": "3.11.9"
  }
 },
 "nbformat": 4,
 "nbformat_minor": 2
}
