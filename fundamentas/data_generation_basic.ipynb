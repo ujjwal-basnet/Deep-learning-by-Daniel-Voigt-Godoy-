{
 "cells": [
  {
   "cell_type": "code",
   "execution_count": 16,
   "metadata": {},
   "outputs": [],
   "source": [
    "import os\n",
    "os.makedirs('')"
   ]
  },
  {
   "cell_type": "code",
   "execution_count": 12,
   "metadata": {},
   "outputs": [],
   "source": [
    "import numpy  as np \n",
    "\n",
    "true_b = 1 \n",
    "true_w = 2 \n",
    "N = 100 \n",
    "\n",
    "#Data Generation \n",
    "np.random.seed(42)\n",
    "x = np.random.rand(N , 1 )\n",
    "epsilon = (.1 * np.random.randn(N,1))\n",
    "y = true_b + true_w + epsilon\n",
    "\n",
    "# shuffel all the indecs \n",
    "idx = np.arange(N)\n",
    "np.random.shuffle(idx)\n",
    "x_train ,y_train = x[:int(N*0.8)] , y[:int(N*0.8)]\n",
    "x_val , y_val = x[int(N*0.8):] , y[int(N * .8) :]\n",
    "\n"
   ]
  },
  {
   "cell_type": "code",
   "execution_count": 15,
   "metadata": {},
   "outputs": [
    {
     "data": {
      "text/plain": [
       "((80, 1), (20, 1))"
      ]
     },
     "execution_count": 15,
     "metadata": {},
     "output_type": "execute_result"
    }
   ],
   "source": [
    "x_train.shape , y_val.shape"
   ]
  },
  {
   "cell_type": "code",
   "execution_count": null,
   "metadata": {},
   "outputs": [],
   "source": []
  }
 ],
 "metadata": {
  "kernelspec": {
   "display_name": "mlenv",
   "language": "python",
   "name": "python3"
  },
  "language_info": {
   "codemirror_mode": {
    "name": "ipython",
    "version": 3
   },
   "file_extension": ".py",
   "mimetype": "text/x-python",
   "name": "python",
   "nbconvert_exporter": "python",
   "pygments_lexer": "ipython3",
   "version": "3.11.9"
  }
 },
 "nbformat": 4,
 "nbformat_minor": 2
}
