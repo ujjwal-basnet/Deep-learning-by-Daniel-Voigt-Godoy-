{
 "cells": [
  {
   "cell_type": "code",
   "execution_count": 10,
   "metadata": {},
   "outputs": [],
   "source": [
    "#putting\n",
    "##dataprepration , model configuration  and model tranning all together \n",
    "# "
   ]
  },
  {
   "cell_type": "code",
   "execution_count": 11,
   "metadata": {},
   "outputs": [],
   "source": [
    "import os\n",
    "import torch \n",
    "import numpy as np \n",
    "\n",
    "# Create the directory if it doesn't exist\n",
    "os.makedirs('data_preparation', exist_ok=True)"
   ]
  },
  {
   "cell_type": "code",
   "execution_count": 33,
   "metadata": {},
   "outputs": [
    {
     "name": "stdout",
     "output_type": "stream",
     "text": [
      "Overwriting data_preparation/v0.py\n"
     ]
    }
   ],
   "source": [
    "%%writefile data_preparation/v0.py\n",
    "# data preparation \n",
    "# There hasn't been much data preparation up to this point.\n",
    "\n",
    "import torch\n",
    "import numpy as np\n",
    "\n",
    "device = 'cuda' if torch.cuda.is_available() else 'cpu'\n",
    "x_train = np.linspace(1, 10, 100)\n",
    "x_train_tensor = torch.as_tensor(x_train, device=device, dtype=torch.float).view(-1 ,1 )\n",
    "y_train_tensor = x_train_tensor * 2 + 1 \n"
   ]
  },
  {
   "cell_type": "code",
   "execution_count": 34,
   "metadata": {},
   "outputs": [],
   "source": [
    "%run -i data_preparation/v0.py"
   ]
  },
  {
   "cell_type": "code",
   "execution_count": 35,
   "metadata": {},
   "outputs": [
    {
     "name": "stdout",
     "output_type": "stream",
     "text": [
      "Overwriting example.py\n"
     ]
    }
   ],
   "source": [
    "%%writefile example.py\n",
    "print(r'this is example py , you can run this vai percentage % run -i example.py')"
   ]
  },
  {
   "cell_type": "code",
   "execution_count": 36,
   "metadata": {},
   "outputs": [
    {
     "name": "stdout",
     "output_type": "stream",
     "text": [
      "this is example py , you can run this vai percentage % run -i example.py\n"
     ]
    }
   ],
   "source": [
    "%run -i example.py"
   ]
  },
  {
   "cell_type": "markdown",
   "metadata": {},
   "source": [
    "Write file , it writes the content of the cell to a file but it does't not ru it \n",
    "run  - it runs the named filed inside the notebook but indepent of the rest of the notebook \n",
    "so we need to use -i to make all variable aviable from both the notebook and teh file \n"
   ]
  },
  {
   "cell_type": "markdown",
   "metadata": {},
   "source": [
    "## Model_configuration "
   ]
  },
  {
   "cell_type": "code",
   "execution_count": 37,
   "metadata": {},
   "outputs": [],
   "source": [
    "# to make organized code , we should include\n",
    "# model\n",
    "# loss fucntion\n",
    "# optimizer \n",
    "import torch.nn as nn"
   ]
  },
  {
   "cell_type": "code",
   "execution_count": 38,
   "metadata": {},
   "outputs": [],
   "source": [
    "os.makedirs('model_configuration' , exist_ok = True)"
   ]
  },
  {
   "cell_type": "code",
   "execution_count": 39,
   "metadata": {},
   "outputs": [
    {
     "name": "stdout",
     "output_type": "stream",
     "text": [
      "Overwriting model_configuration/v0.py\n"
     ]
    }
   ],
   "source": [
    "%%writefile model_configuration/v0.py\n",
    "\n",
    "device = 'cuda' if torch.cuda.is_available() else 'cpu'\n",
    "\n",
    "lr = 0.01 \n",
    "torch.manual_seed(42)\n",
    "#create a model and send to device\n",
    "model = nn.Sequential(nn.Linear(1 , 1)).to(device)\n",
    "\n",
    "## define sgd optimizer to udpate the parameters \n",
    "optimizer = torch.optim.SGD(model.parameters() , lr = lr)\n",
    "\n",
    "#define mse as loss function \n",
    "loss_fn = nn.MSELoss(reduction= 'mean')\n"
   ]
  },
  {
   "cell_type": "code",
   "execution_count": 40,
   "metadata": {},
   "outputs": [],
   "source": [
    "%run -i model_configuration/v0.py"
   ]
  },
  {
   "cell_type": "markdown",
   "metadata": {},
   "source": [
    "## model tranning "
   ]
  },
  {
   "cell_type": "code",
   "execution_count": 41,
   "metadata": {},
   "outputs": [
    {
     "data": {
      "text/plain": [
       "\"\\nCompute Model's Predictions\\n\\nCompute Loss\\n\\nCompute Gradients \\n\\nUpdate Parameters\\n\\n\""
      ]
     },
     "execution_count": 41,
     "metadata": {},
     "output_type": "execute_result"
    }
   ],
   "source": [
    "#steps \n",
    "'''\n",
    "Compute Model's Predictions\n",
    "\n",
    "Compute Loss\n",
    "\n",
    "Compute Gradients \n",
    "\n",
    "Update Parameters\n",
    "\n",
    "'''"
   ]
  },
  {
   "cell_type": "code",
   "execution_count": 44,
   "metadata": {},
   "outputs": [],
   "source": [
    "os.makedirs('model_training' , exist_ok= True)"
   ]
  },
  {
   "cell_type": "code",
   "execution_count": 45,
   "metadata": {},
   "outputs": [
    {
     "name": "stdout",
     "output_type": "stream",
     "text": [
      "Writing model_training/v0.py\n"
     ]
    }
   ],
   "source": [
    "%%writefile model_training/v0.py  \n",
    "\n",
    "torch.manual_seed(42)\n",
    "n_epochs = 100 \n",
    "for epoch in range(n_epochs):\n",
    "    #set the model to train\n",
    "    model.train()\n",
    "\n",
    "    #compute the model prediction\n",
    "    yhat = model(x_train_tensor)\n",
    "\n",
    "    #step-2 loss \n",
    "    loss = loss_fn(yhat , y_train_tensor)\n",
    "\n",
    "    #compute gradients \n",
    "    loss.backward()\n",
    "\n",
    "    optimizer.step()\n",
    "    optimizer.zero_grad()\n"
   ]
  },
  {
   "cell_type": "code",
   "execution_count": 47,
   "metadata": {},
   "outputs": [],
   "source": [
    "%run -i model_training/v0.py"
   ]
  },
  {
   "cell_type": "code",
   "execution_count": 48,
   "metadata": {},
   "outputs": [
    {
     "name": "stdout",
     "output_type": "stream",
     "text": [
      "OrderedDict([('0.weight', tensor([[1.9990]], device='cuda:0')), ('0.bias', tensor([1.0066], device='cuda:0'))])\n"
     ]
    }
   ],
   "source": [
    "print(model.state_dict())"
   ]
  },
  {
   "cell_type": "code",
   "execution_count": null,
   "metadata": {},
   "outputs": [],
   "source": []
  }
 ],
 "metadata": {
  "kernelspec": {
   "display_name": "mlenv",
   "language": "python",
   "name": "python3"
  },
  "language_info": {
   "codemirror_mode": {
    "name": "ipython",
    "version": 3
   },
   "file_extension": ".py",
   "mimetype": "text/x-python",
   "name": "python",
   "nbconvert_exporter": "python",
   "pygments_lexer": "ipython3",
   "version": "3.11.9"
  }
 },
 "nbformat": 4,
 "nbformat_minor": 2
}
