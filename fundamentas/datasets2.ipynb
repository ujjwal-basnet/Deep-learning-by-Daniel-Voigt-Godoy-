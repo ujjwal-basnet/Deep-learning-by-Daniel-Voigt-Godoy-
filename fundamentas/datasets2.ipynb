{
 "cells": [
  {
   "cell_type": "code",
   "execution_count": 1,
   "metadata": {},
   "outputs": [],
   "source": [
    "import numpy as np \n",
    "from sklearn.linear_model import LinearRegression \n",
    "import torch \n",
    "import torch.optim as optim\n",
    "import torch.nn as nn\n",
    "from torch.utils.data import Dataset , TensorDataset ,DataLoader \n",
    "from torch.utils.data.dataset import random_split \n",
    "from torch.utils.tensorboard import SummaryWriter\n"
   ]
  },
  {
   "cell_type": "markdown",
   "metadata": {},
   "source": [
    "#### note that here we use index in get item because  , we dont know how big our dataset will ,  in the introduction \n",
    "### and we dont sent to gpu , sending directly huge data to gpu may creates us problme "
   ]
  },
  {
   "cell_type": "markdown",
   "metadata": {},
   "source": [
    "we dont want to load whole dataset in gpu because , doing  so ,  because it takes space in our precious graphis card"
   ]
  },
  {
   "cell_type": "code",
   "execution_count": 2,
   "metadata": {},
   "outputs": [],
   "source": [
    "%run -i data_preparation/v0.py"
   ]
  },
  {
   "cell_type": "code",
   "execution_count": 3,
   "metadata": {},
   "outputs": [],
   "source": [
    "# %load data_preparation/v0.py\n",
    "\n",
    "import torch\n",
    "import numpy as np\n",
    "\n",
    "device = 'cuda' if torch.cuda.is_available() else 'cpu'\n",
    "x_train = np.linspace(1, 10, 100)\n",
    "x_train_tensor = torch.as_tensor(x_train, device=device, dtype=torch.float).view(-1 ,1 )\n",
    "y_train = x_train * 2 + 1 \n",
    "y_train_tensor = torch.as_tensor(y_train , device = device  , dtype = torch.float).view(-1 , 1 )\n"
   ]
  },
  {
   "cell_type": "code",
   "execution_count": 4,
   "metadata": {},
   "outputs": [
    {
     "data": {
      "text/plain": [
       "(tensor(1.1818), tensor(3.3636))"
      ]
     },
     "execution_count": 4,
     "metadata": {},
     "output_type": "execute_result"
    }
   ],
   "source": [
    "class customDataset(Dataset):\n",
    "    def __init__(self , x_tensor , y_tensor):\n",
    "        self.x  = x_tensor \n",
    "        self.y = y_tensor\n",
    "\n",
    "    def __getitem__(self , index):\n",
    "        return (self.x[index] , self.y[index])\n",
    "    \n",
    "    def __len__(self):\n",
    "        return (len(self.x))\n",
    "    \n",
    "train_data = customDataset(x_train_tensor , y_train_tensor)\n",
    "x_train_tensor = torch.as_tensor(x_train).float()\n",
    "y_train_tensor = torch.as_tensor(y_train).float()\n",
    "\n",
    "train_data = customDataset(x_train_tensor , y_train_tensor)\n",
    "train_data[2]"
   ]
  },
  {
   "cell_type": "code",
   "execution_count": 5,
   "metadata": {},
   "outputs": [
    {
     "data": {
      "text/plain": [
       "(tensor(1.), tensor(3.))"
      ]
     },
     "execution_count": 5,
     "metadata": {},
     "output_type": "execute_result"
    }
   ],
   "source": [
    "# tensor dataset class\n",
    "train_data = TensorDataset(x_train_tensor , y_train_tensor)\n",
    "train_data[0]"
   ]
  },
  {
   "cell_type": "code",
   "execution_count": 6,
   "metadata": {},
   "outputs": [
    {
     "data": {
      "text/plain": [
       "<torch.utils.data.dataloader.DataLoader at 0x1a245e9cad0>"
      ]
     },
     "execution_count": 6,
     "metadata": {},
     "output_type": "execute_result"
    }
   ],
   "source": [
    "train_loader = DataLoader( dataset= train_data , shuffle=True , batch_size = 16 )\n",
    "train_loader\n"
   ]
  },
  {
   "cell_type": "code",
   "execution_count": 7,
   "metadata": {},
   "outputs": [
    {
     "data": {
      "text/plain": [
       "2"
      ]
     },
     "execution_count": 7,
     "metadata": {},
     "output_type": "execute_result"
    }
   ],
   "source": [
    "len(next(iter(train_loader)))\n",
    "#their are 16 batches and this will print  1 batch\n"
   ]
  },
  {
   "cell_type": "code",
   "execution_count": 8,
   "metadata": {},
   "outputs": [
    {
     "data": {
      "text/plain": [
       "7"
      ]
     },
     "execution_count": 8,
     "metadata": {},
     "output_type": "execute_result"
    }
   ],
   "source": [
    "len(list(train_loader))"
   ]
  },
  {
   "cell_type": "code",
   "execution_count": 9,
   "metadata": {},
   "outputs": [
    {
     "name": "stdout",
     "output_type": "stream",
     "text": [
      "Overwriting data_preparation/v1.py\n"
     ]
    }
   ],
   "source": [
    "%%writefile data_preparation/v1.py\n",
    "import torch \n",
    "import numpy as np\n",
    "from torch.utils.data import TensorDataset , DataLoader\n",
    "\n",
    "x_train = np.linspace(1 , 10 , 100)\n",
    "x_train_tensor = torch.as_tensor(x_train).float().view(-1,1)\n",
    "y_train = x_train *2 + 1 \n",
    "y_train_tensor = torch.as_tensor(y_train).float().view(-1 , 1)\n",
    "\n",
    "#build dataset\n",
    "train_data = TensorDataset(x_train_tensor , y_train_tensor)\n",
    "\n",
    "\n",
    "train_loader = DataLoader(\n",
    "    dataset = train_data , \n",
    "    batch_size = 16 , \n",
    "    shuffle = True\n",
    ")\n"
   ]
  },
  {
   "cell_type": "code",
   "execution_count": 10,
   "metadata": {},
   "outputs": [],
   "source": [
    "%run -i data_preparation/v1.py"
   ]
  },
  {
   "cell_type": "markdown",
   "metadata": {},
   "source": [
    "add mini batch gradent logic in model configuration"
   ]
  },
  {
   "cell_type": "code",
   "execution_count": 11,
   "metadata": {},
   "outputs": [],
   "source": [
    "%run -i  data_preparation/v1.py\n",
    "%run -i  model_configuration/v1.py"
   ]
  },
  {
   "cell_type": "code",
   "execution_count": 12,
   "metadata": {},
   "outputs": [
    {
     "name": "stdout",
     "output_type": "stream",
     "text": [
      "Epoch 0  Loss : 0.37308263778686523\n",
      "Epoch 10  Loss : 0.48805946111679077\n",
      "Epoch 20  Loss : 0.2552509903907776\n",
      "Epoch 30  Loss : 0.12849591672420502\n",
      "Epoch 40  Loss : 0.09309923648834229\n",
      "Epoch 50  Loss : 0.05134318768978119\n",
      "Epoch 60  Loss : 0.01755167916417122\n",
      "Epoch 70  Loss : 0.0066045131534338\n",
      "Epoch 80  Loss : 0.006432800553739071\n",
      "Epoch 90  Loss : 0.004398713819682598\n",
      "Epoch 100  Loss : 0.0009666635887697339\n",
      "Epoch 110  Loss : 0.0017308444948866963\n",
      "Epoch 120  Loss : 0.0015057220589369535\n",
      "Epoch 130  Loss : 0.00033792603062465787\n",
      "Epoch 140  Loss : 7.943905075080693e-05\n",
      "Epoch 150  Loss : 0.0003559039905667305\n",
      "Epoch 160  Loss : 6.264795229071751e-05\n",
      "Epoch 170  Loss : 4.9136044253828004e-05\n",
      "Epoch 180  Loss : 4.168749728705734e-05\n",
      "Epoch 190  Loss : 5.8373356296215206e-05\n",
      "Epoch 200  Loss : 2.3695567506365478e-05\n",
      "Epoch 210  Loss : 1.2939080079377163e-05\n",
      "Epoch 220  Loss : 8.297183740069158e-06\n",
      "Epoch 230  Loss : 3.3871526738948887e-06\n",
      "Epoch 240  Loss : 5.93708136875648e-07\n",
      "Epoch 250  Loss : 1.532804049020342e-06\n",
      "Epoch 260  Loss : 1.0281439699610928e-06\n",
      "Epoch 270  Loss : 3.356808520038612e-07\n",
      "Epoch 280  Loss : 2.511072239030909e-07\n",
      "Epoch 290  Loss : 2.3954214611876523e-07\n",
      "Epoch 300  Loss : 4.53978827863466e-08\n",
      "Epoch 310  Loss : 6.280447450990323e-08\n",
      "Epoch 320  Loss : 3.312675289635081e-08\n",
      "Epoch 330  Loss : 1.9820447505480843e-08\n",
      "Epoch 340  Loss : 1.1972133506787941e-08\n",
      "Epoch 350  Loss : 1.0542635209276341e-08\n",
      "Epoch 360  Loss : 3.2846401154529303e-09\n",
      "Epoch 370  Loss : 4.103753781237174e-09\n",
      "Epoch 380  Loss : 1.6289618542941753e-09\n",
      "Epoch 390  Loss : 1.1496155138956965e-09\n",
      "Epoch 400  Loss : 7.137828106351662e-10\n",
      "Epoch 410  Loss : 2.4419932742603123e-10\n",
      "Epoch 420  Loss : 3.269633452873677e-10\n",
      "Epoch 430  Loss : 3.326618980281637e-10\n",
      "Epoch 440  Loss : 1.0192025001742877e-10\n",
      "Epoch 450  Loss : 4.1666226024972275e-11\n",
      "Epoch 460  Loss : 2.575006874394603e-11\n",
      "Epoch 470  Loss : 2.0691004465334117e-11\n",
      "Epoch 480  Loss : 1.6157741811184678e-11\n",
      "Epoch 490  Loss : 6.423306331271306e-12\n",
      "Epoch 500  Loss : 2.7284841053187847e-12\n",
      "Epoch 510  Loss : 1.6484591469634324e-12\n",
      "Epoch 520  Loss : 2.0463630789890885e-12\n",
      "Epoch 530  Loss : 2.2737367544323206e-12\n",
      "Epoch 540  Loss : 2.5579538487363607e-12\n",
      "Epoch 550  Loss : 3.979039320256561e-12\n",
      "Epoch 560  Loss : 1.6626700016786344e-12\n",
      "Epoch 570  Loss : 4.547473508864641e-13\n",
      "Epoch 580  Loss : 1.8332002582610585e-12\n",
      "Epoch 590  Loss : 6.821210263296962e-13\n",
      "Epoch 600  Loss : 9.663381206337363e-13\n",
      "Epoch 610  Loss : 2.5721647034515627e-12\n",
      "Epoch 620  Loss : 1.6058265828178264e-12\n",
      "Epoch 630  Loss : 1.3642420526593924e-12\n",
      "Epoch 640  Loss : 1.3642420526593924e-12\n",
      "Epoch 650  Loss : 2.5579538487363607e-12\n",
      "Epoch 660  Loss : 1.0231815394945443e-12\n",
      "Epoch 670  Loss : 1.1937117960769683e-12\n",
      "Epoch 680  Loss : 1.4779288903810084e-12\n",
      "Epoch 690  Loss : 6.821210263296962e-13\n",
      "Epoch 700  Loss : 1.4210854715202004e-12\n",
      "Epoch 710  Loss : 1.5916157281026244e-12\n",
      "Epoch 720  Loss : 1.4779288903810084e-12\n",
      "Epoch 730  Loss : 7.389644451905042e-13\n",
      "Epoch 740  Loss : 1.8758328224066645e-12\n",
      "Epoch 750  Loss : 1.8189894035458565e-12\n",
      "Epoch 760  Loss : 9.663381206337363e-13\n",
      "Epoch 770  Loss : 1.4779288903810084e-12\n",
      "Epoch 780  Loss : 2.5579538487363607e-12\n",
      "Epoch 790  Loss : 2.2737367544323206e-12\n",
      "Epoch 800  Loss : 1.0231815394945443e-12\n",
      "Epoch 810  Loss : 9.663381206337363e-13\n",
      "Epoch 820  Loss : 2.2737367544323206e-13\n",
      "Epoch 830  Loss : 9.663381206337363e-13\n",
      "Epoch 840  Loss : 4.547473508864641e-13\n",
      "Epoch 850  Loss : 9.237055564881302e-13\n",
      "Epoch 860  Loss : 1.0231815394945443e-12\n",
      "Epoch 870  Loss : 7.389644451905042e-13\n",
      "Epoch 880  Loss : 9.237055564881302e-13\n",
      "Epoch 890  Loss : 2.2737367544323206e-13\n",
      "Epoch 900  Loss : 1.6484591469634324e-12\n",
      "Epoch 910  Loss : 2.2737367544323206e-13\n",
      "Epoch 920  Loss : 4.547473508864641e-13\n",
      "Epoch 930  Loss : 4.547473508864641e-13\n",
      "Epoch 940  Loss : 1.4352963262354024e-12\n",
      "Epoch 950  Loss : 9.663381206337363e-13\n",
      "Epoch 960  Loss : 2.2737367544323206e-13\n",
      "Epoch 970  Loss : 9.663381206337363e-13\n",
      "Epoch 980  Loss : 4.547473508864641e-13\n",
      "Epoch 990  Loss : 1.2505552149377763e-12\n"
     ]
    }
   ],
   "source": [
    "#model _tranning\n",
    "n_epochs = 1000\n",
    "losses = []\n",
    "for epoch in range(n_epochs):\n",
    "    mini_batch_losses = []\n",
    "    for x_batch , y_batch in train_loader:\n",
    "        # for number of instances\n",
    "        mini_batch_losses = []\n",
    "        x_batch = x_batch.to(device)\n",
    "        y_batch = y_batch.to(device)\n",
    "\n",
    "        mini_batch_loss = train_step_fn(x_batch , y_batch)\n",
    "        mini_batch_losses.append(mini_batch_loss)\n",
    "\n",
    "    loss = np.mean(mini_batch_losses)\n",
    "    losses.append(loss)\n",
    "\n",
    "    if epoch % 10 == 0 :\n",
    "        print(f'Epoch {epoch}  Loss : {loss}')\n",
    "\n",
    "    "
   ]
  },
  {
   "cell_type": "markdown",
   "metadata": {},
   "source": [
    "### we execute inner loop 100/16 = 6.25 = 7 times \n",
    "### thus , we are calling the train_step_fn 7 * 1000 i.e 7000 times \n",
    "\n"
   ]
  },
  {
   "cell_type": "code",
   "execution_count": 13,
   "metadata": {},
   "outputs": [],
   "source": [
    "### mini batch helper function\n"
   ]
  },
  {
   "cell_type": "code",
   "execution_count": 16,
   "metadata": {},
   "outputs": [
    {
     "name": "stdout",
     "output_type": "stream",
     "text": [
      "Writing model_training/v3.py\n"
     ]
    }
   ],
   "source": [
    "%%writefile model_training/v3.py\n",
    "n_epochs = 200 \n",
    "losses = [] \n",
    "\n",
    "\n",
    "def mini_batch(device , train_loader , train_step_fn):\n",
    "    mini_batch_losses = [] \n",
    "    for x_batch , y_batch in train_loader:\n",
    "        x_batch = x_batch.to(device)\n",
    "        y_batch = y_batch.to(device)\n",
    "\n",
    "        mini_batch_loss = train_step_fn(x_batch , y_batch)\n",
    "        mini_batch_losses.append(mini_batch_loss)\n",
    "    loss =np.mean(mini_batch_loss)\n",
    "    return loss \n",
    "\n",
    "\n",
    "\n",
    "for epoch in range(n_epochs):\n",
    "    loss = mini_batch(device, train_loader , train_step_fn)\n",
    "    losses.append(loss)\n"
   ]
  },
  {
   "cell_type": "markdown",
   "metadata": {},
   "source": [
    "### remember  in batch gradient descent  , \n",
    "####  700 epcohs means  , 700 updates \n",
    "\n",
    "#### but here  , since our 100 len data is divinded into  16 batch i.e total 7 batches\n",
    "#### tus on each epochs we are updating 7 times \n",
    "#### thus here we only need 10 epcohs to have 700 updates i.e(7 * 700) "
   ]
  },
  {
   "cell_type": "code",
   "execution_count": 17,
   "metadata": {},
   "outputs": [],
   "source": [
    "%run -i model_training/v3.py"
   ]
  },
  {
   "cell_type": "code",
   "execution_count": 18,
   "metadata": {},
   "outputs": [
    {
     "data": {
      "text/plain": [
       "OrderedDict([('0.weight', tensor([[2.0000]], device='cuda:0')),\n",
       "             ('0.bias', tensor([1.0000], device='cuda:0'))])"
      ]
     },
     "execution_count": 18,
     "metadata": {},
     "output_type": "execute_result"
    }
   ],
   "source": [
    "#model configuration\n",
    "model.state_dict()"
   ]
  },
  {
   "cell_type": "markdown",
   "metadata": {},
   "source": [
    "## random split\n"
   ]
  },
  {
   "cell_type": "code",
   "execution_count": 30,
   "metadata": {},
   "outputs": [
    {
     "name": "stdout",
     "output_type": "stream",
     "text": [
      "Overwriting data_preparation/v2.py\n"
     ]
    }
   ],
   "source": [
    "%%writefile data_preparation/v2.py\n",
    "import torch \n",
    "import numpy as np \n",
    "from torch.utils.data import TensorDataset , DataLoader , random_split \n",
    "\n",
    "torch.manual_seed(42)\n",
    "\n",
    "device = torch.device('cuda' if torch.cuda.is_available() else 'cpu')\n",
    "x = np.linspace(1 , 10 , 100)\n",
    "y  = 2*x  + 10 \n",
    "x_tensor = torch.as_tensor(x).float()\n",
    "y_tensor = torch.as_tensor(y).float()\n",
    "\n",
    "#build \n",
    "dataset = TensorDataset(x_tensor , y_tensor)\n",
    "\n",
    "#perform split\n",
    "ratio = 0.8 \n",
    "n_total = len(dataset)\n",
    "n_train = int(n_total * ratio)\n",
    "n_val = n_total - n_train \n",
    "train_data , val_data = random_split(dataset , [n_train,n_val])\n",
    "\n",
    "\n",
    "#build a loader each set\n",
    "train_loader = DataLoader(\n",
    "    dataset = train_data ,  \n",
    "    batch_size = 16 , \n",
    "    shuffle = True\n",
    ")\n",
    "\n",
    "val_loader = DataLoader(\n",
    "    dataset = val_data , \n",
    "    batch_size = 16 )\n"
   ]
  },
  {
   "cell_type": "code",
   "execution_count": 31,
   "metadata": {},
   "outputs": [],
   "source": [
    "%run -i data_preparation/v2.py"
   ]
  },
  {
   "cell_type": "code",
   "execution_count": null,
   "metadata": {},
   "outputs": [],
   "source": []
  }
 ],
 "metadata": {
  "kernelspec": {
   "display_name": "mlenv",
   "language": "python",
   "name": "python3"
  },
  "language_info": {
   "codemirror_mode": {
    "name": "ipython",
    "version": 3
   },
   "file_extension": ".py",
   "mimetype": "text/x-python",
   "name": "python",
   "nbconvert_exporter": "python",
   "pygments_lexer": "ipython3",
   "version": "3.11.9"
  }
 },
 "nbformat": 4,
 "nbformat_minor": 2
}
