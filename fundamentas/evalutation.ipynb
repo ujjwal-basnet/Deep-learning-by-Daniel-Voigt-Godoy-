{
 "cells": [
  {
   "cell_type": "code",
   "execution_count": 2,
   "metadata": {},
   "outputs": [],
   "source": [
    "#cuilding make_val_step higher function\n",
    "def make_val_step_fn(model , loss_fn):\n",
    "\n",
    "    def perform_val_step(x ,y):\n",
    "        model.eval()  # set model to evals mode \n",
    "        yhat = model(x)\n",
    "        loss = loss_fn(yhat , y)\n",
    "        #  no need to compute step 3 and 4 , since we dont update parameters during evalution \n",
    "\n",
    "        return loss.item()\n",
    "    \n",
    "    return perform_val_step\n",
    "\n"
   ]
  },
  {
   "cell_type": "code",
   "execution_count": 3,
   "metadata": {},
   "outputs": [],
   "source": [
    "import torch \n",
    "import numpy as np \n",
    "import torch.nn as nn \n",
    "import torch.optim as optim "
   ]
  },
  {
   "cell_type": "code",
   "execution_count": 4,
   "metadata": {},
   "outputs": [
    {
     "name": "stdout",
     "output_type": "stream",
     "text": [
      "Overwriting model_configuration/v2.py\n"
     ]
    }
   ],
   "source": [
    "%%writefile model_configuration/v2.py\n",
    "import torch \n",
    "import torch.optim as optim \n",
    "import torch.nn as nn \n",
    "device = 'cuda' if torch.cuda.is_available() else 'cpu'\n",
    "\n",
    "lr = 0.01 #set learning rate \n",
    "model = nn.Sequential(nn.Linear(1,1).to(device))\n",
    "optimizer = optim.SGD(model.parameters() , lr = lr)\n",
    "loss_fn = nn.MSELoss(reduction= 'mean')\n",
    "\n",
    "\n",
    "def make_train_step_fn(model , loss_fn , optimizer):\n",
    "    def train_step(x ,y):\n",
    "        model.train()\n",
    "        yhat = model(x)\n",
    "        loss = loss_fn(yhat , y)\n",
    "        loss.backward() #calcualte gradients \n",
    "        optimizer.step()\n",
    "        optimizer.zero_grad()\n",
    "        return loss.item()\n",
    "    return train_step\n",
    "\n",
    "train_step_fn = make_train_step_fn(model , loss_fn , optimizer)\n",
    "\n",
    "def make_val_step_fn(model , loss_fn):\n",
    "    def perform_val_step(x ,y ):\n",
    "        model.eval() #model evaluation \n",
    "        yhat = model(x)\n",
    "        loss = loss_fn(yhat , y)\n",
    "        return loss.item()\n",
    "    return perform_val_step\n",
    "\n",
    "\n",
    "val_step_fn = make_val_step_fn(model , loss_fn)\n"
   ]
  },
  {
   "cell_type": "code",
   "execution_count": 10,
   "metadata": {},
   "outputs": [],
   "source": [
    "%run model_configuration/v2.py"
   ]
  },
  {
   "cell_type": "markdown",
   "metadata": {},
   "source": [
    "## now creating model_trannign for our validation data"
   ]
  },
  {
   "cell_type": "code",
   "execution_count": 11,
   "metadata": {},
   "outputs": [],
   "source": [
    "#train \n",
    "import numpy as np \n",
    "import torch.nn as nn\n",
    "import torch.optim as optim \n",
    "\n"
   ]
  },
  {
   "cell_type": "code",
   "execution_count": 13,
   "metadata": {},
   "outputs": [
    {
     "data": {
      "text/plain": [
       "'cuda'"
      ]
     },
     "execution_count": 13,
     "metadata": {},
     "output_type": "execute_result"
    }
   ],
   "source": [
    "device = 'cuda' if torch.cuda.is_available() else 'cpu'\n",
    "device"
   ]
  },
  {
   "cell_type": "code",
   "execution_count": 19,
   "metadata": {},
   "outputs": [],
   "source": [
    "%run -i  data_preparation/v2.py\n",
    "%run -i model_configuration/v2.py"
   ]
  },
  {
   "cell_type": "code",
   "execution_count": null,
   "metadata": {},
   "outputs": [],
   "source": []
  },
  {
   "cell_type": "code",
   "execution_count": 23,
   "metadata": {},
   "outputs": [
    {
     "name": "stdout",
     "output_type": "stream",
     "text": [
      "Writing model_training/v4.py\n"
     ]
    }
   ],
   "source": [
    "%%writefile model_training/v4.py\n",
    "def mini_batch(device , train_loader , train_step_fn):\n",
    "    mini_batch_losses = []\n",
    "    for x_batch , y_batch in train_loader:\n",
    "        x_batch = x_batch.to(device).view(-1 , 1)\n",
    "        y_batch = y_batch.to(device).view(-1 , 1)\n",
    "\n",
    "        mini_batch_loss = train_step_fn(x_batch , y_batch)\n",
    "        mini_batch_losses.append(mini_batch_loss)\n",
    "\n",
    "    loss = np.mean(mini_batch_loss)\n",
    "    return loss \n",
    "\n",
    "        \n",
    "\n",
    "\n",
    "\n",
    "\n",
    "n_epcohs = 200 \n",
    "losses = []\n",
    "val_losses = [] \n",
    "for epcoh in range(n_epcohs):\n",
    "    #inner loop \n",
    "    loss = mini_batch(device ,  train_loader , train_step_fn)\n",
    "    losses.append(loss)\n",
    "\n",
    "    with torch.no_grad():\n",
    "        val_loss = mini_batch(device , val_loader , val_step_fn)\n",
    "        val_losses.append(val_loss)"
   ]
  },
  {
   "cell_type": "code",
   "execution_count": 24,
   "metadata": {},
   "outputs": [],
   "source": [
    "%run -i model_training/v4.py\n"
   ]
  },
  {
   "cell_type": "code",
   "execution_count": 25,
   "metadata": {},
   "outputs": [
    {
     "data": {
      "text/plain": [
       "OrderedDict([('0.weight', tensor([[2.0012]], device='cuda:0')),\n",
       "             ('0.bias', tensor([9.9912], device='cuda:0'))])"
      ]
     },
     "execution_count": 25,
     "metadata": {},
     "output_type": "execute_result"
    }
   ],
   "source": [
    "model.state_dict()\n"
   ]
  },
  {
   "cell_type": "code",
   "execution_count": 26,
   "metadata": {},
   "outputs": [],
   "source": [
    "# full pipeline \n",
    "%run -i data_preparation/v2.py\n",
    "%run -i model_configuration/v2.py\n",
    "%run -i model_training/v4.py\n"
   ]
  },
  {
   "cell_type": "code",
   "execution_count": null,
   "metadata": {},
   "outputs": [],
   "source": []
  }
 ],
 "metadata": {
  "kernelspec": {
   "display_name": "mlenv",
   "language": "python",
   "name": "python3"
  },
  "language_info": {
   "codemirror_mode": {
    "name": "ipython",
    "version": 3
   },
   "file_extension": ".py",
   "mimetype": "text/x-python",
   "name": "python",
   "nbconvert_exporter": "python",
   "pygments_lexer": "ipython3",
   "version": "3.11.9"
  }
 },
 "nbformat": 4,
 "nbformat_minor": 2
}
